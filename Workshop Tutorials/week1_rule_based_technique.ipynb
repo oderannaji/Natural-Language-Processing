{
 "cells": [
  {
   "cell_type": "markdown",
   "id": "8bfb2262-611d-4fe1-872e-269801dc314c",
   "metadata": {},
   "source": [
    "Senario: Consider a chatbot that tries to help customer support team by identifying order numbers from the following chats with different customers:\n",
    "\n",
    "Customer 1: \"Hello, I am having an issue with my order # 412889912\"\n",
    "Customer 2: \"I have a problem with my order number 412889913\"\n",
    "Customer 3: \"My order 412889915 is having an issue, I was charged £300 when online it says £280\"\n",
    "\n",
    "Regular expression can be used to find all the order numbers in the chat."
   ]
  },
  {
   "cell_type": "code",
   "execution_count": 3,
   "id": "a6498a33-ae32-41c9-9350-b1b38696d9e7",
   "metadata": {},
   "outputs": [],
   "source": [
    "import re"
   ]
  },
  {
   "cell_type": "code",
   "execution_count": 9,
   "id": "f522d892-978e-4f3f-a626-ed800ad8079e",
   "metadata": {},
   "outputs": [
    {
     "data": {
      "text/plain": [
       "['412889912']"
      ]
     },
     "execution_count": 9,
     "metadata": {},
     "output_type": "execute_result"
    }
   ],
   "source": [
    "chat1 = 'Customer 1: Hello, I am having an issue with my order # 412889912'\n",
    "\n",
    "pattern = r'order[^\\d]*(\\d*)' # a little details about the pattern given, e.g., \\d digit etc \n",
    "matches = re.findall(pattern, chat1)\n",
    "matches"
   ]
  },
  {
   "cell_type": "code",
   "execution_count": 8,
   "id": "511d9ad9-344d-4fa8-bdc2-94254b84edd7",
   "metadata": {},
   "outputs": [
    {
     "data": {
      "text/plain": [
       "['412889913']"
      ]
     },
     "execution_count": 8,
     "metadata": {},
     "output_type": "execute_result"
    }
   ],
   "source": [
    "chat2 = 'Customer 2: I have a problem with my order number 412889913'\n",
    "pattern = r'order[^\\d]*(\\d*)'\n",
    "matches = re.findall(pattern, chat2)\n",
    "matches"
   ]
  },
  {
   "cell_type": "code",
   "execution_count": 10,
   "id": "15c52aa7-0a9d-47de-aaa4-edc963548fe9",
   "metadata": {},
   "outputs": [
    {
     "data": {
      "text/plain": [
       "['412889915']"
      ]
     },
     "execution_count": 10,
     "metadata": {},
     "output_type": "execute_result"
    }
   ],
   "source": [
    "chat3 = 'Customer 3: My order 412889915 is having an issue, I was charged £300 when online it says £280' \n",
    "matches = re.findall(r'order[^\\d]*(\\d*)', chat3)\n",
    "matches"
   ]
  },
  {
   "cell_type": "code",
   "execution_count": 16,
   "id": "484850d9-ebf6-463b-9a9b-9f4f6a59f691",
   "metadata": {},
   "outputs": [],
   "source": [
    "def get_pattern_match(pattern, text):\n",
    "    matches = re.findall(pattern, text)\n",
    "    if matches:\n",
    "        return matches[0]"
   ]
  },
  {
   "cell_type": "code",
   "execution_count": 15,
   "id": "1d837310-4d49-425c-bf2f-d03f051f239c",
   "metadata": {},
   "outputs": [
    {
     "data": {
      "text/plain": [
       "'412889915'"
      ]
     },
     "execution_count": 15,
     "metadata": {},
     "output_type": "execute_result"
    }
   ],
   "source": [
    "get_pattern_match(r'order[^\\d]*(\\d*)', chat3)"
   ]
  },
  {
   "cell_type": "code",
   "execution_count": 17,
   "id": "e64b174e-7644-475f-8f6d-66fbb3518ae6",
   "metadata": {},
   "outputs": [],
   "source": [
    "def get_pattern_match(pattern, text):\n",
    "    matches = re.findall(pattern, text)\n",
    "    if matches:\n",
    "        return matches[0]"
   ]
  },
  {
   "cell_type": "code",
   "execution_count": 18,
   "id": "bf65ea6e-2cc6-4ef6-bdc8-f3a95d44fe1c",
   "metadata": {},
   "outputs": [
    {
     "data": {
      "text/plain": [
       "'412889915'"
      ]
     },
     "execution_count": 18,
     "metadata": {},
     "output_type": "execute_result"
    }
   ],
   "source": [
    "get_pattern_match(r'order[^\\d]*(\\d*)', chat3)"
   ]
  },
  {
   "cell_type": "code",
   "execution_count": null,
   "id": "d55a07c0-c626-40a0-bdcd-4a220f91e224",
   "metadata": {},
   "outputs": [],
   "source": []
  },
  {
   "cell_type": "markdown",
   "id": "1f3d8b92-9248-4b9a-a493-2de37866ce47",
   "metadata": {},
   "source": [
    "## Exercise\n",
    "\n",
    "\n",
    "In the following of conversation, chatbot asked about the customer phone number and email address. Following are three sample answers:\n",
    "\n",
    "- Customer 1: \"you ask lot of questions 😠 1235678912, customer1@salford.com\"\n",
    "- Customer 2: \"here it is: (123)-567-8912, cust2@gmail.com\"\n",
    "- Customer 3: \"yes, phone: 1235678912 email: customer_3@my-site.com\"\n",
    "\n",
    "\n",
    "Try to write regular expression to find the phone number and email address for each response."
   ]
  },
  {
   "cell_type": "code",
   "execution_count": 38,
   "id": "97cc2b22-023f-426c-b2d5-b8c4f3b78cdf",
   "metadata": {},
   "outputs": [],
   "source": [
    "pattern = r\"\\d+|[a-zA-Z0-9._%+-]+@[a-zA-Z0-9.-]+\\.[a-zA-Z]{2,}\"\n",
    "\n",
    "def get_matches(pattern, text):\n",
    "    matches = re.findall(pattern, text)\n",
    "    if matches:\n",
    "        return matches[0:]"
   ]
  },
  {
   "cell_type": "code",
   "execution_count": 39,
   "id": "4f67f0c9-2a27-482b-ba92-679b13bd40bd",
   "metadata": {},
   "outputs": [],
   "source": [
    "Customer1 = 'you ask lot of questions 😠 1235678912, customer1@salford.com'\n",
    "Customer2 = 'here it is: (123)-567-8912, cust2@gmail.com'\n",
    "Customer3 = 'yes, phone: 1235678912 email: customer_3@my-site.com'"
   ]
  },
  {
   "cell_type": "code",
   "execution_count": 40,
   "id": "658db68e-029b-4bc1-8b6e-7930d9efe54c",
   "metadata": {},
   "outputs": [
    {
     "data": {
      "text/plain": [
       "['1235678912', 'customer1@salford.com']"
      ]
     },
     "execution_count": 40,
     "metadata": {},
     "output_type": "execute_result"
    }
   ],
   "source": [
    "get_matches(r\"\\d+|[a-zA-Z0-9._%+-]+@[a-zA-Z0-9.-]+\\.[a-zA-Z]{2,}\", Customer1)"
   ]
  },
  {
   "cell_type": "code",
   "execution_count": 42,
   "id": "0e29b50f-d39f-4d72-9936-679863628202",
   "metadata": {},
   "outputs": [
    {
     "data": {
      "text/plain": [
       "['123', '567', '8912', 'cust2@gmail.com']"
      ]
     },
     "execution_count": 42,
     "metadata": {},
     "output_type": "execute_result"
    }
   ],
   "source": [
    "get_matches(pattern, Customer2)"
   ]
  },
  {
   "cell_type": "code",
   "execution_count": 44,
   "id": "8e5ae8b4-2670-4f77-85bf-c0a969edadc0",
   "metadata": {},
   "outputs": [
    {
     "data": {
      "text/plain": [
       "['1235678912', 'customer_3@my-site.com']"
      ]
     },
     "execution_count": 44,
     "metadata": {},
     "output_type": "execute_result"
    }
   ],
   "source": [
    "get_matches(r\"\\d+|[a-zA-Z0-9._%+-]+@[a-zA-Z0-9.-]+\\.[a-zA-Z]{2,}\", Customer3)"
   ]
  },
  {
   "cell_type": "code",
   "execution_count": null,
   "id": "0ae790e0-3e01-4fae-ae05-7e33246591d5",
   "metadata": {},
   "outputs": [],
   "source": []
  },
  {
   "cell_type": "markdown",
   "id": "9439e139-490a-4805-8151-f597d1fed896",
   "metadata": {},
   "source": [
    "# Another way"
   ]
  },
  {
   "cell_type": "code",
   "execution_count": 56,
   "id": "b42d0883-7c7b-4ec9-bd06-f7b081c0c2e6",
   "metadata": {},
   "outputs": [
    {
     "data": {
      "text/plain": [
       "['1235678912', 'customer1@salford.com']"
      ]
     },
     "execution_count": 56,
     "metadata": {},
     "output_type": "execute_result"
    }
   ],
   "source": [
    "pattern = r\"\\(?\\d{3}\\)?[-.\\s]?\\d{3}[-.\\s]?\\d{4}|[a-zA-Z0-9._%+-]+@[a-zA-Z0-9.-]+\\.[a-zA-Z]{2,}\"\n",
    "\n",
    "mymatches = re.findall(pattern, Customer1)\n",
    "mymatches"
   ]
  },
  {
   "cell_type": "code",
   "execution_count": 54,
   "id": "d3432369-fdfd-4161-b45d-6096a0c2dbc6",
   "metadata": {},
   "outputs": [
    {
     "data": {
      "text/plain": [
       "['(123)-567-8912', 'cust2@gmail.com']"
      ]
     },
     "execution_count": 54,
     "metadata": {},
     "output_type": "execute_result"
    }
   ],
   "source": [
    "pattern = r\"\\(?\\d{3}\\)?[-.\\s]?\\d{3}[-.\\s]?\\d{4}|[a-zA-Z0-9._%+-]+@[a-zA-Z0-9.-]+\\.[a-zA-Z]{2,}\"\n",
    "\n",
    "mymatches = re.findall(pattern, Customer2)\n",
    "mymatches"
   ]
  },
  {
   "cell_type": "code",
   "execution_count": 55,
   "id": "689134ac-2f58-447f-b707-40f04fde1f90",
   "metadata": {},
   "outputs": [
    {
     "data": {
      "text/plain": [
       "['1235678912', 'customer_3@my-site.com']"
      ]
     },
     "execution_count": 55,
     "metadata": {},
     "output_type": "execute_result"
    }
   ],
   "source": [
    "pattern = r\"\\(?\\d{3}\\)?[-.\\s]?\\d{3}[-.\\s]?\\d{4}|[a-zA-Z0-9._%+-]+@[a-zA-Z0-9.-]+\\.[a-zA-Z]{2,}\"\n",
    "\n",
    "mymatches = re.findall(pattern, Customer3)\n",
    "mymatches"
   ]
  },
  {
   "cell_type": "code",
   "execution_count": null,
   "id": "08c35cc0-7642-470b-b5ad-32e4ccc1f97f",
   "metadata": {},
   "outputs": [],
   "source": []
  }
 ],
 "metadata": {
  "kernelspec": {
   "display_name": "Python 3 (ipykernel)",
   "language": "python",
   "name": "python3"
  },
  "language_info": {
   "codemirror_mode": {
    "name": "ipython",
    "version": 3
   },
   "file_extension": ".py",
   "mimetype": "text/x-python",
   "name": "python",
   "nbconvert_exporter": "python",
   "pygments_lexer": "ipython3",
   "version": "3.12.2"
  }
 },
 "nbformat": 4,
 "nbformat_minor": 5
}
