{
 "cells": [
  {
   "cell_type": "markdown",
   "id": "78f745bf-c26b-403b-ac1a-9ee5a97ad403",
   "metadata": {},
   "source": [
    "## STEMMING \n",
    "This is the process of reducing a word to it's base or root form or we can say reducing a word to its stem by removing it's affixes (prefixes or suffixes)\n",
    "Example: Eating ---> Eat or Unhappy ----> Happy"
   ]
  },
  {
   "cell_type": "markdown",
   "id": "17bae1e4-68b1-4d3a-ad24-44bf0be27e8f",
   "metadata": {},
   "source": [
    "- PorterSteming\n",
    "- SnowballStemmer\n",
    "- Regular Expression('RegexpStemmer')"
   ]
  },
  {
   "cell_type": "code",
   "execution_count": 23,
   "id": "ee5c01bf-1ef0-474e-9cf2-f60635ac7c6e",
   "metadata": {},
   "outputs": [],
   "source": [
    "text = 'eating', 'eats', 'eaten', 'writing', 'writes', 'programming', 'programs', 'history', 'finally', 'finalize', 'fairly'"
   ]
  },
  {
   "cell_type": "code",
   "execution_count": 24,
   "id": "510bb8d1-3c1e-4618-9c80-c06f576b6d71",
   "metadata": {},
   "outputs": [],
   "source": [
    "from nltk.stem import PorterStemmer"
   ]
  },
  {
   "cell_type": "code",
   "execution_count": 25,
   "id": "417560eb-67de-4f25-a7e6-ae734d208858",
   "metadata": {},
   "outputs": [],
   "source": [
    "stemming = PorterStemmer()"
   ]
  },
  {
   "cell_type": "code",
   "execution_count": 26,
   "id": "4b2c34c5-25ec-477e-8736-3804acd4cb27",
   "metadata": {},
   "outputs": [
    {
     "name": "stdout",
     "output_type": "stream",
     "text": [
      "eating -----> eat\n",
      "eats -----> eat\n",
      "eaten -----> eaten\n",
      "writing -----> write\n",
      "writes -----> write\n",
      "programming -----> program\n",
      "programs -----> program\n",
      "history -----> histori\n",
      "finally -----> final\n",
      "finalize -----> final\n",
      "fairly -----> fairli\n"
     ]
    }
   ],
   "source": [
    "for words in text:\n",
    "    print(f'{words} -----> {stemming.stem(words)}')"
   ]
  },
  {
   "cell_type": "code",
   "execution_count": 27,
   "id": "4282bac2-1bc8-4091-b9fb-363cd69d9352",
   "metadata": {},
   "outputs": [
    {
     "name": "stdout",
     "output_type": "stream",
     "text": [
      "congratul\n",
      "apllic\n",
      "educ\n",
      "loyalti\n",
      "apllic\n"
     ]
    }
   ],
   "source": [
    "print(stemming.stem('congratulations'))\n",
    "print(stemming.stem('Apllication'))\n",
    "print(stemming.stem('education'))\n",
    "print(stemming.stem('loyalty'))\n",
    "print(stemming.stem('Apllication'))"
   ]
  },
  {
   "cell_type": "markdown",
   "id": "9a7bf7bf-f64d-4453-b490-873a7e2e3aa0",
   "metadata": {},
   "source": [
    "## REGULAR EXPRESSION - REGEX\n",
    "Regex are sequence of character that helps define a search pattern. it is used for text matching, searching, and manipulation in programing and Nlp"
   ]
  },
  {
   "cell_type": "raw",
   "id": "b611aa02-a81d-4ead-a180-de477ff20b0b",
   "metadata": {},
   "source": [
    "Pattern\t   Meaning\t                  Example Match\n",
    "\\d\t     Matches any digit (0-9)\t\"Age: 25\" → 25\n",
    "\\w\tMatches any word character (a-z, A-Z, 0-9, _)\t\"Hello_123\" → \"Hello_123\"\n",
    "\\s\tMatches any whitespace (space, tab, newline)\t\"Hello World\" → \" \"\n",
    ".\tMatches any character except newline\t\"a1!\" → \"a\", \"1\", \"!\"\n",
    "^\tMatches the start of a string\t^Hello → Matches \"Hello world\" but not \"world Hello\"\n",
    "$\tMatches the end of a string\tworld$ → Matches \"Hello world\" but not \"world Hello\"\n",
    "*\tMatches 0 or more occurrences\t\"a*\" → Matches \"aaa\", \"a\", \"\"\n",
    "+\tMatches 1 or more occurrences\t\"a+\" → Matches \"aaa\", \"a\", but not \"\"\n",
    "?\tMatches 0 or 1 occurrences\t\"colou?r\" → Matches \"color\" or \"colour\"\n",
    "{n}\tMatches exactly n times\t\"a{3}\" → Matches \"aaa\" but not \"aa\"\n",
    "{n,m}\tMatches between n and m times\t\"a{2,4}\" → Matches \"aa\", \"aaa\", \"aaaa\"\n",
    "`\t`\tOR operator\n",
    "[]\tMatches any character inside\t\"[aeiou]\" → Matches any vowel\n",
    "[^]\tMatches any character not inside\t\"[^aeiou]\" → Matches any consonant"
   ]
  },
  {
   "cell_type": "code",
   "execution_count": 28,
   "id": "1c800f3b-1e11-451c-bbdd-241d0f2d8df0",
   "metadata": {},
   "outputs": [],
   "source": [
    "from nltk.stem import RegexpStemmer"
   ]
  },
  {
   "cell_type": "code",
   "execution_count": 29,
   "id": "3671297f-34be-436a-a2e8-849945b74940",
   "metadata": {},
   "outputs": [],
   "source": [
    "words = 'eating', 'eats', 'eaten', 'writing', 'writes', 'programming', 'programs', 'history', 'finally', 'finalize'"
   ]
  },
  {
   "cell_type": "code",
   "execution_count": 30,
   "id": "4bf9b4dc-2851-4155-b230-97eedf1f1cf3",
   "metadata": {},
   "outputs": [],
   "source": [
    "reg_stemmer = RegexpStemmer('ing$|abel|tions|e$|s$|en$|^pro', min=4)"
   ]
  },
  {
   "cell_type": "code",
   "execution_count": 31,
   "id": "ec4bef52-3148-4789-9b53-16777a34146f",
   "metadata": {},
   "outputs": [
    {
     "name": "stdout",
     "output_type": "stream",
     "text": [
      "eating ------> eat\n",
      "eats ------> eat\n",
      "eaten ------> eat\n",
      "writing ------> writ\n",
      "writes ------> write\n",
      "programming ------> gramm\n",
      "programs ------> gram\n",
      "history ------> history\n",
      "finally ------> finally\n",
      "finalize ------> finaliz\n"
     ]
    }
   ],
   "source": [
    "for word in words:\n",
    "    print(f'{word} ------> {reg_stemmer.stem(word)}')"
   ]
  },
  {
   "cell_type": "markdown",
   "id": "ab6280c4-19b0-4c17-8675-88b7930fe726",
   "metadata": {},
   "source": [
    "## SNOWBALL STEMMING"
   ]
  },
  {
   "cell_type": "code",
   "execution_count": 32,
   "id": "660eeb30-80f2-42f0-aac3-c2fa1e9a2cc7",
   "metadata": {},
   "outputs": [],
   "source": [
    "from nltk.stem import SnowballStemmer"
   ]
  },
  {
   "cell_type": "code",
   "execution_count": 38,
   "id": "c9b620fa-fd5d-440e-8acf-bda97ba1090f",
   "metadata": {},
   "outputs": [],
   "source": [
    "stemmer = SnowballStemmer('english')"
   ]
  },
  {
   "cell_type": "code",
   "execution_count": 40,
   "id": "ecfe82b6-e339-4a15-8dfd-50c0314e7ee8",
   "metadata": {},
   "outputs": [
    {
     "name": "stdout",
     "output_type": "stream",
     "text": [
      "eating -------> eat\n",
      "eats -------> eat\n",
      "eaten -------> eaten\n",
      "writing -------> write\n",
      "writes -------> write\n",
      "programming -------> program\n",
      "programs -------> program\n",
      "history -------> histori\n",
      "finally -------> final\n",
      "finalize -------> final\n",
      "fairly -------> fair\n"
     ]
    }
   ],
   "source": [
    "for words in text:\n",
    "    print(f'{words} -------> {stemmer.stem(words)}')"
   ]
  },
  {
   "cell_type": "code",
   "execution_count": 34,
   "id": "15e13ff3-520b-45ca-b916-c65e6a8b6718",
   "metadata": {},
   "outputs": [
    {
     "data": {
      "text/plain": [
       "'congratul'"
      ]
     },
     "execution_count": 34,
     "metadata": {},
     "output_type": "execute_result"
    }
   ],
   "source": [
    "stemmer.stem('congratulations')"
   ]
  },
  {
   "cell_type": "code",
   "execution_count": 36,
   "id": "b4635864-f3da-4664-9235-b05de477df6d",
   "metadata": {},
   "outputs": [
    {
     "data": {
      "text/plain": [
       "('fairli', 'sportingli')"
      ]
     },
     "execution_count": 36,
     "metadata": {},
     "output_type": "execute_result"
    }
   ],
   "source": [
    "stemming.stem('Fairly'), stemming.stem('sportingly')"
   ]
  },
  {
   "cell_type": "code",
   "execution_count": 37,
   "id": "0c4492e4-1304-4987-bf24-fdc6ebdff7dd",
   "metadata": {},
   "outputs": [
    {
     "data": {
      "text/plain": [
       "('fair', 'sport')"
      ]
     },
     "execution_count": 37,
     "metadata": {},
     "output_type": "execute_result"
    }
   ],
   "source": [
    "stemmer.stem('Fairly'), stemmer.stem('sportingly')"
   ]
  },
  {
   "cell_type": "code",
   "execution_count": null,
   "id": "1bb933f7-3a6c-47e4-94b7-39af3c8dc9bc",
   "metadata": {},
   "outputs": [],
   "source": []
  }
 ],
 "metadata": {
  "kernelspec": {
   "display_name": "Python 3 (ipykernel)",
   "language": "python",
   "name": "python3"
  },
  "language_info": {
   "codemirror_mode": {
    "name": "ipython",
    "version": 3
   },
   "file_extension": ".py",
   "mimetype": "text/x-python",
   "name": "python",
   "nbconvert_exporter": "python",
   "pygments_lexer": "ipython3",
   "version": "3.12.2"
  }
 },
 "nbformat": 4,
 "nbformat_minor": 5
}
