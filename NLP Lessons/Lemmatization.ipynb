{
 "cells": [
  {
   "cell_type": "markdown",
   "id": "9d16c6c0-f9a7-414b-b9e3-17a3816c6b17",
   "metadata": {},
   "source": [
    "## LEMMATIZATION\n",
    "\n",
    "Lemmatization is the process of reducing words to their base or dictionary form, known as the lemma, while ensuring that the resulting word is a valid word in the language. Unlike stemming, lemmatization considers the context and meaning of the word, resulting in more accurate and lin guistically valid outputs."
   ]
  },
  {
   "cell_type": "markdown",
   "id": "ca1d7a44-749b-4096-b74c-604e9369c7fc",
   "metadata": {},
   "source": [
    "POS Tags in NLTK:\n",
    "In the NLTK library, the WordNetLemmatizer uses the following POS tags:\n",
    "\n",
    "- 'n' for nouns\n",
    "\n",
    "- 'v' for verbs\n",
    "\n",
    "- 'a' for adjectives\n",
    "\n",
    "- 'r' for adverbs"
   ]
  },
  {
   "cell_type": "code",
   "execution_count": 15,
   "id": "397a59cf-c7a5-44ed-af17-b7c5d7f9ced6",
   "metadata": {},
   "outputs": [],
   "source": [
    "from nltk.stem import WordNetLemmatizer"
   ]
  },
  {
   "cell_type": "code",
   "execution_count": 16,
   "id": "eddd5a68-ccc3-447a-a602-6cb42a12bd8a",
   "metadata": {},
   "outputs": [],
   "source": [
    "lemmatizer = WordNetLemmatizer()"
   ]
  },
  {
   "cell_type": "code",
   "execution_count": 17,
   "id": "5d2259ff-342c-444a-860c-f6f2f5542a99",
   "metadata": {},
   "outputs": [
    {
     "data": {
      "text/plain": [
       "'go'"
      ]
     },
     "execution_count": 17,
     "metadata": {},
     "output_type": "execute_result"
    }
   ],
   "source": [
    "lemmatizer.lemmatize('going', pos='v')"
   ]
  },
  {
   "cell_type": "code",
   "execution_count": 26,
   "id": "9c0c2fc7-7271-46ac-a148-0718713e9619",
   "metadata": {},
   "outputs": [],
   "source": [
    "text = 'eating', 'eats', 'eaten', 'writing', 'writes', 'programming', 'programs', 'history', 'finally', 'finalize', 'fairly','congratulation'"
   ]
  },
  {
   "cell_type": "code",
   "execution_count": 57,
   "id": "e4454279-f269-4f47-88a8-912add046b0b",
   "metadata": {},
   "outputs": [
    {
     "name": "stdout",
     "output_type": "stream",
     "text": [
      "eating -----> eating\n",
      "eats -----> eats\n",
      "eaten -----> eaten\n",
      "writing -----> writing\n",
      "writes -----> writes\n",
      "programming -----> programming\n",
      "programs -----> programs\n",
      "history -----> history\n",
      "finally -----> finally\n",
      "finalize -----> finalize\n",
      "fairly -----> fairly\n",
      "congratulation -----> congratulation\n"
     ]
    }
   ],
   "source": [
    "for words in text:\n",
    "    print(f'{words} -----> {lemmatizer.lemmatize(words, pos='r')}')"
   ]
  },
  {
   "cell_type": "code",
   "execution_count": 58,
   "id": "747b06bf-83ce-4bbb-9cba-27935665742c",
   "metadata": {},
   "outputs": [
    {
     "name": "stdout",
     "output_type": "stream",
     "text": [
      "good\n",
      "well\n"
     ]
    }
   ],
   "source": [
    "print(lemmatizer.lemmatize('better', pos='a'))\n",
    "print(lemmatizer.lemmatize('better', pos='r'))"
   ]
  },
  {
   "cell_type": "code",
   "execution_count": 59,
   "id": "671af05c-9ae8-4bdb-8c87-fb70133ad106",
   "metadata": {},
   "outputs": [
    {
     "name": "stdout",
     "output_type": "stream",
     "text": [
      "mouse\n",
      "child\n",
      "run\n"
     ]
    }
   ],
   "source": [
    "print(lemmatizer.lemmatize('mice', pos='n'))\n",
    "print(lemmatizer.lemmatize('children', pos='n'))\n",
    "print(lemmatizer.lemmatize('ran', pos='v'))"
   ]
  },
  {
   "cell_type": "code",
   "execution_count": 61,
   "id": "5c85e7b8-3a2f-421e-a011-d0f0445157f8",
   "metadata": {},
   "outputs": [
    {
     "name": "stdout",
     "output_type": "stream",
     "text": [
      "happy\n",
      "writing\n"
     ]
    }
   ],
   "source": [
    "print(lemmatizer.lemmatize('happier', pos='a'))\n",
    "print(lemmatizer.lemmatize('writing', pos='a'))"
   ]
  },
  {
   "cell_type": "code",
   "execution_count": null,
   "id": "db67c653-7c32-466e-bcec-223785f0eaac",
   "metadata": {},
   "outputs": [],
   "source": []
  }
 ],
 "metadata": {
  "kernelspec": {
   "display_name": "Python 3 (ipykernel)",
   "language": "python",
   "name": "python3"
  },
  "language_info": {
   "codemirror_mode": {
    "name": "ipython",
    "version": 3
   },
   "file_extension": ".py",
   "mimetype": "text/x-python",
   "name": "python",
   "nbconvert_exporter": "python",
   "pygments_lexer": "ipython3",
   "version": "3.12.2"
  }
 },
 "nbformat": 4,
 "nbformat_minor": 5
}
