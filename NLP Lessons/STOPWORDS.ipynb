{
 "cells": [
  {
   "cell_type": "markdown",
   "id": "eea4970e-34f9-463f-984a-e086e8307562",
   "metadata": {},
   "source": [
    "## STOPWORDS \n",
    "Stopwords are common words in a language that are often filtered out during text processing because they don’t carry much meaningful information in isolation. These words are typically very frequent, and while they help with the structure and grammar of sentences, they aren't usually useful for tasks like text analysis, natural language processing (NLP), or information retrieval.\n",
    "\n",
    "Examples of Stopwords:\n",
    "- Articles: \"the\", \"a\", \"an\"\n",
    "- Prepositions: \"in\", \"on\", \"at\", \"by\"\n",
    "- Pronouns: \"he\", \"she\", \"it\", \"they\"\n",
    "- Conjunctions: \"and\", \"but\", \"if\", \"or\"\n",
    "- Auxiliary Verbs: \"is\", \"am\", \"are\", \"was\", \"were\"\n",
    "- others: \"for\", \"to\", \"with\", \"about\""
   ]
  },
  {
   "cell_type": "code",
   "execution_count": 2,
   "id": "d3482dc9-3b1e-4169-91e8-418e96d64d50",
   "metadata": {},
   "outputs": [],
   "source": [
    "paragraph = \"\"\"I have three visions for India. In 3000 years of our history, people from all over \n",
    "               the world have come and invaded us, captured our lands, conquered our minds. \n",
    "               From Alexander onwards, the Greeks, the Turks, the Moguls, the Portuguese, the British,\n",
    "               the French, the Dutch, all of them came and looted us, took over what was ours. \n",
    "               Yet we have not done this to any other nation. We have not conquered anyone. \n",
    "               We have not grabbed their land, their culture, \n",
    "               their history and tried to enforce our way of life on them. \n",
    "               Why? Because we respect the freedom of others.That is why my \n",
    "               first vision is that of freedom. I believe that India got its first vision of \n",
    "               this in 1857, when we started the War of Independence. It is this freedom that\n",
    "               we must protect and nurture and build on. If we are not free, no one will respect us.\n",
    "               My second vision for India’s development. For fifty years we have been a developing nation.\n",
    "               It is time we see ourselves as a developed nation. We are among the top 5 nations of the world\n",
    "               in terms of GDP. We have a 10 percent growth rate in most areas. Our poverty levels are falling.\n",
    "               Our achievements are being globally recognised today. Yet we lack the self-confidence to\n",
    "               see ourselves as a developed nation, self-reliant and self-assured. Isn’t this incorrect?\n",
    "               I have a third vision. India must stand up to the world. Because I believe that unless India \n",
    "               stands up to the world, no one will respect us. Only strength respects strength. We must be \n",
    "               strong not only as a military power but also as an economic power. Both must go hand-in-hand. \n",
    "               My good fortune was to have worked with three great minds. Dr. Vikram Sarabhai of the Dept. of \n",
    "               space, Professor Satish Dhawan, who succeeded him and Dr. Brahm Prakash, father of nuclear material.\n",
    "               I was lucky to have worked with all three of them closely and consider this the great opportunity of my life. \n",
    "               I see four milestones in my career\"\"\""
   ]
  },
  {
   "cell_type": "code",
   "execution_count": 32,
   "id": "3b6ea67b-295b-4fee-811d-4d2dad9c0157",
   "metadata": {},
   "outputs": [
    {
     "name": "stderr",
     "output_type": "stream",
     "text": [
      "[nltk_data] Downloading package stopwords to /Users/Odera\n",
      "[nltk_data]     Nnaji/nltk_data...\n",
      "[nltk_data]   Package stopwords is already up-to-date!\n"
     ]
    },
    {
     "data": {
      "text/plain": [
       "True"
      ]
     },
     "execution_count": 32,
     "metadata": {},
     "output_type": "execute_result"
    }
   ],
   "source": [
    "import nltk\n",
    "nltk.download('stopwords')"
   ]
  },
  {
   "cell_type": "code",
   "execution_count": 33,
   "id": "32564a1e-725f-42fc-a76b-488c190d342f",
   "metadata": {},
   "outputs": [],
   "source": [
    "## importing stopword package\n",
    "from nltk.corpus import stopwords"
   ]
  },
  {
   "cell_type": "markdown",
   "id": "f214e11f-893a-45f6-ac4e-ebbbb79d6a82",
   "metadata": {},
   "source": [
    "## WE APPLY STEMMING AS WELL AS STOPWORDS IN ORDER TO PREPROCESS OUR TEXT\n",
    "\n",
    "- First usecase = PORTER STEMMER + STOPWORDS"
   ]
  },
  {
   "cell_type": "code",
   "execution_count": 34,
   "id": "7fd0450b-5bd1-4ef2-b0dd-2ca0bd964986",
   "metadata": {},
   "outputs": [],
   "source": [
    "from nltk.stem import PorterStemmer"
   ]
  },
  {
   "cell_type": "code",
   "execution_count": 35,
   "id": "79d026ac-7052-42db-8998-8bd0a34eb8f9",
   "metadata": {},
   "outputs": [],
   "source": [
    "stemmer = PorterStemmer()"
   ]
  },
  {
   "cell_type": "code",
   "execution_count": 92,
   "id": "cdd0bb43-3d06-4d6b-bfaa-aab516d20617",
   "metadata": {},
   "outputs": [],
   "source": [
    "x = set(stopwords.words('english'))"
   ]
  },
  {
   "cell_type": "code",
   "execution_count": 93,
   "id": "522f2802-6ef4-494a-8686-8bcadd75cd77",
   "metadata": {},
   "outputs": [
    {
     "name": "stdout",
     "output_type": "stream",
     "text": [
      "{'aren', 'such', 'did', \"it's\", 'shan', 'between', 'by', \"isn't\", 'have', 'his', 'or', 'too', 'not', 'having', 's', \"couldn't\", 'up', 'of', 'can', 'themselves', 'myself', 'where', 'again', \"needn't\", 'no', 'then', 'o', 'am', 't', 'be', 'against', \"wasn't\", 'itself', 'yourself', 'how', 'theirs', 'few', 'we', 'yourselves', 'these', 'there', 'a', 'with', 'them', 've', 'does', \"you'd\", 'they', 'was', 'isn', 'has', \"mightn't\", 'nor', 'only', \"don't\", 'at', 'you', 'in', 'under', 'most', \"wouldn't\", 'more', \"doesn't\", 'needn', 'through', 'which', 'y', 'any', \"didn't\", 'doesn', 'but', 'about', 'will', \"shouldn't\", 'until', 'why', 'wasn', 'wouldn', 'mightn', \"you've\", 'll', 'ain', 'this', 'own', 'mustn', 'she', 'off', 'her', \"should've\", 'ourselves', 'hadn', 'my', \"hadn't\", 'below', 'some', 'him', 'their', 're', 'ma', 'those', 'yours', 'further', 'our', \"that'll\", 'both', \"won't\", \"aren't\", 'it', 'had', 'than', 'very', 'should', \"she's\", \"you're\", \"you'll\", 'an', 'doing', 'were', 'your', 'been', 'over', 'each', 'its', 'the', 'for', 'and', 'hasn', 'if', 'once', 'on', 'm', 'all', 'haven', 'weren', 'he', 'that', 'what', 'didn', 'down', 'here', 'so', 'because', 'same', 'who', 'whom', 'just', 'couldn', \"shan't\", 'me', 'is', 'out', 'while', 'are', 'when', 'before', \"hasn't\", 'other', 'i', 'from', 'being', 'after', 'as', \"mustn't\", \"haven't\", 'during', 'now', 'ours', 'to', 'won', 'hers', 'do', 'above', 'himself', 'don', 'd', 'into', \"weren't\", 'shouldn', 'herself'}\n"
     ]
    }
   ],
   "source": [
    "print(x)"
   ]
  },
  {
   "cell_type": "code",
   "execution_count": 94,
   "id": "be2ed079-100e-4510-8109-09765d8e9852",
   "metadata": {},
   "outputs": [],
   "source": [
    "from nltk.tokenize import sent_tokenize"
   ]
  },
  {
   "cell_type": "code",
   "execution_count": 95,
   "id": "1a6d7918-32f4-4fa7-b5a6-5803af83258a",
   "metadata": {},
   "outputs": [],
   "source": [
    "sentences = sent_tokenize(paragraph)"
   ]
  },
  {
   "cell_type": "code",
   "execution_count": 96,
   "id": "4a2942dc-d2e9-4c1d-918c-2d6c7a63fbc0",
   "metadata": {},
   "outputs": [
    {
     "data": {
      "text/plain": [
       "['I have three visions for India.',\n",
       " 'In 3000 years of our history, people from all over \\n               the world have come and invaded us, captured our lands, conquered our minds.',\n",
       " 'From Alexander onwards, the Greeks, the Turks, the Moguls, the Portuguese, the British,\\n               the French, the Dutch, all of them came and looted us, took over what was ours.',\n",
       " 'Yet we have not done this to any other nation.',\n",
       " 'We have not conquered anyone.',\n",
       " 'We have not grabbed their land, their culture, \\n               their history and tried to enforce our way of life on them.',\n",
       " 'Why?',\n",
       " 'Because we respect the freedom of others.That is why my \\n               first vision is that of freedom.',\n",
       " 'I believe that India got its first vision of \\n               this in 1857, when we started the War of Independence.',\n",
       " 'It is this freedom that\\n               we must protect and nurture and build on.',\n",
       " 'If we are not free, no one will respect us.',\n",
       " 'My second vision for India’s development.',\n",
       " 'For fifty years we have been a developing nation.',\n",
       " 'It is time we see ourselves as a developed nation.',\n",
       " 'We are among the top 5 nations of the world\\n               in terms of GDP.',\n",
       " 'We have a 10 percent growth rate in most areas.',\n",
       " 'Our poverty levels are falling.',\n",
       " 'Our achievements are being globally recognised today.',\n",
       " 'Yet we lack the self-confidence to\\n               see ourselves as a developed nation, self-reliant and self-assured.',\n",
       " 'Isn’t this incorrect?',\n",
       " 'I have a third vision.',\n",
       " 'India must stand up to the world.',\n",
       " 'Because I believe that unless India \\n               stands up to the world, no one will respect us.',\n",
       " 'Only strength respects strength.',\n",
       " 'We must be \\n               strong not only as a military power but also as an economic power.',\n",
       " 'Both must go hand-in-hand.',\n",
       " 'My good fortune was to have worked with three great minds.',\n",
       " 'Dr. Vikram Sarabhai of the Dept.',\n",
       " 'of \\n               space, Professor Satish Dhawan, who succeeded him and Dr. Brahm Prakash, father of nuclear material.',\n",
       " 'I was lucky to have worked with all three of them closely and consider this the great opportunity of my life.',\n",
       " 'I see four milestones in my career']"
      ]
     },
     "execution_count": 96,
     "metadata": {},
     "output_type": "execute_result"
    }
   ],
   "source": [
    "sentences"
   ]
  },
  {
   "cell_type": "code",
   "execution_count": 101,
   "id": "0594179f-f881-4fd4-9821-246cc2d7960f",
   "metadata": {},
   "outputs": [],
   "source": [
    "for i in range (len(sentences)):\n",
    "    words = nltk.word_tokenize(sentences[i])\n",
    "    words = [stemmer.stem(word) for word in words if word.lower() not in x]\n",
    "    sentences[i] = ' '.join(words)"
   ]
  },
  {
   "cell_type": "code",
   "execution_count": 102,
   "id": "3ec64c76-831f-49e9-a3bc-4ef82e8757de",
   "metadata": {},
   "outputs": [
    {
     "data": {
      "text/plain": [
       "['three vision india .',\n",
       " '3000 year histori , peopl world come invad us , captur land , conquer mind .',\n",
       " 'alexand onward , greek , turk , mogul , portugu , british , french , dutch , came loot us , took .',\n",
       " 'yet done nation .',\n",
       " 'conquer anyon .',\n",
       " 'grab land , cultur , histori tri enforc way life .',\n",
       " '?',\n",
       " 'respect freedom others.that first vision freedom .',\n",
       " 'believ india got first vision 1857 , start war independ .',\n",
       " 'freedom must protect nurtur build .',\n",
       " 'free , one respect us .',\n",
       " 'second vision india ’ develop .',\n",
       " 'fifti year develop nation .',\n",
       " 'time see develop nation .',\n",
       " 'among top 5 nation world term gdp .',\n",
       " '10 percent growth rate area .',\n",
       " 'poverti level fall .',\n",
       " 'achiev global recogni today .',\n",
       " 'yet lack self-confid see develop nation , self-r self-assur .',\n",
       " '’ incorrect ?',\n",
       " 'third vision .',\n",
       " 'india must stand world .',\n",
       " 'believ unless india stand world , one respect us .',\n",
       " 'strength respect strength .',\n",
       " 'must strong militari power also econom power .',\n",
       " 'must go hand-in-hand .',\n",
       " 'good fortun work three great mind .',\n",
       " 'dr. vikram sarabhai dept .',\n",
       " 'space , professor satish dhawan , succeed dr. brahm prakash , father nuclear materi .',\n",
       " 'lucki work three close consid great opportun life .',\n",
       " 'see four mileston career']"
      ]
     },
     "execution_count": 102,
     "metadata": {},
     "output_type": "execute_result"
    }
   ],
   "source": [
    "sentences"
   ]
  },
  {
   "cell_type": "markdown",
   "id": "6bf7bc19-9601-4879-a2f4-53d3f09b82ee",
   "metadata": {},
   "source": [
    "## USING SNOWBALL STEMMER"
   ]
  },
  {
   "cell_type": "code",
   "execution_count": 49,
   "id": "967a0439-03e3-476e-b7ca-504ee11f8090",
   "metadata": {},
   "outputs": [],
   "source": [
    "text = \"\"\"I have three visions for India. In 3000 years of our history, people from all over \n",
    "               the world have come and invaded us, captured our lands, conquered our minds. \n",
    "               From Alexander onwards, the Greeks, the Turks, the Moguls, the Portuguese, the British,\n",
    "               the French, the Dutch, all of them came and looted us, took over what was ours. \n",
    "               Yet we have not done this to any other nation. We have not conquered anyone. \n",
    "               We have not grabbed their land, their culture, \n",
    "               their history and tried to enforce our way of life on them. \n",
    "               Why? Because we respect the freedom of others.That is why my \n",
    "               first vision is that of freedom. I believe that India got its first vision of \n",
    "               this in 1857, when we started the War of Independence. It is this freedom that\n",
    "               we must protect and nurture and build on. If we are not free, no one will respect us.\n",
    "               My second vision for India’s development. For fifty years we have been a developing nation.\n",
    "               It is time we see ourselves as a developed nation. We are among the top 5 nations of the world\n",
    "               in terms of GDP. We have a 10 percent growth rate in most areas. Our poverty levels are falling.\n",
    "               Our achievements are being globally recognised today. Yet we lack the self-confidence to\n",
    "               see ourselves as a developed nation, self-reliant and self-assured. Isn’t this incorrect?\n",
    "               I have a third vision. India must stand up to the world. Because I believe that unless India \n",
    "               stands up to the world, no one will respect us. Only strength respects strength. We must be \n",
    "               strong not only as a military power but also as an economic power. Both must go hand-in-hand. \n",
    "               My good fortune was to have worked with three great minds. Dr. Vikram Sarabhai of the Dept. of \n",
    "               space, Professor Satish Dhawan, who succeeded him and Dr. Brahm Prakash, father of nuclear material.\n",
    "               I was lucky to have worked with all three of them closely and consider this the great opportunity of my life. \n",
    "               I see four milestones in my career\"\"\""
   ]
  },
  {
   "cell_type": "code",
   "execution_count": 51,
   "id": "233b1dcf-510a-41b5-a1bf-2b9ec5b7091e",
   "metadata": {},
   "outputs": [],
   "source": [
    "from nltk.stem import SnowballStemmer"
   ]
  },
  {
   "cell_type": "code",
   "execution_count": 53,
   "id": "94cd1e8b-39b1-4643-9e09-cdec7ac9dd88",
   "metadata": {},
   "outputs": [],
   "source": [
    "stemming = SnowballStemmer('english')"
   ]
  },
  {
   "cell_type": "code",
   "execution_count": 54,
   "id": "c7d87628-d9eb-4e37-a3ce-96e01e8d72f0",
   "metadata": {},
   "outputs": [],
   "source": [
    "from nltk.corpus import stopwords"
   ]
  },
  {
   "cell_type": "code",
   "execution_count": 85,
   "id": "b959f42c-9df4-459e-ab6f-03ba42ea2225",
   "metadata": {},
   "outputs": [],
   "source": [
    "stopword = set(stopwords.words('english'))"
   ]
  },
  {
   "cell_type": "code",
   "execution_count": 86,
   "id": "5f9eec21-2301-452c-999c-200967ab4abf",
   "metadata": {},
   "outputs": [],
   "source": [
    "from nltk.tokenize import sent_tokenize, word_tokenize"
   ]
  },
  {
   "cell_type": "code",
   "execution_count": 87,
   "id": "a535280c-e7d8-4bd7-a4f2-f45dc503c547",
   "metadata": {},
   "outputs": [],
   "source": [
    "sentence = sent_tokenize(text)"
   ]
  },
  {
   "cell_type": "code",
   "execution_count": 88,
   "id": "0d957a74-7b36-4fa7-bd2d-2f8a9134037d",
   "metadata": {},
   "outputs": [],
   "source": [
    "for i in range(len(sentence)):\n",
    "    words = word_tokenize(sentence[i])\n",
    "    words = [stemming.stem(word) for word in words if word.lower() not in stopword]\n",
    "    sentence[i] = ' '.join(words)"
   ]
  },
  {
   "cell_type": "code",
   "execution_count": 89,
   "id": "03ff4091-b1e5-40a0-87b3-cdbf612776c4",
   "metadata": {},
   "outputs": [
    {
     "data": {
      "text/plain": [
       "['three vision india .',\n",
       " '3000 year histori , peopl world come invad us , captur land , conquer mind .',\n",
       " 'alexand onward , greek , turk , mogul , portugues , british , french , dutch , came loot us , took .',\n",
       " 'yet done nation .',\n",
       " 'conquer anyon .',\n",
       " 'grab land , cultur , histori tri enforc way life .',\n",
       " '?',\n",
       " 'respect freedom others.that first vision freedom .',\n",
       " 'believ india got first vision 1857 , start war independ .',\n",
       " 'freedom must protect nurtur build .',\n",
       " 'free , one respect us .',\n",
       " 'second vision india ’ develop .',\n",
       " 'fifti year develop nation .',\n",
       " 'time see develop nation .',\n",
       " 'among top 5 nation world term gdp .',\n",
       " '10 percent growth rate area .',\n",
       " 'poverti level fall .',\n",
       " 'achiev global recognis today .',\n",
       " 'yet lack self-confid see develop nation , self-reli self-assur .',\n",
       " '’ incorrect ?',\n",
       " 'third vision .',\n",
       " 'india must stand world .',\n",
       " 'believ unless india stand world , one respect us .',\n",
       " 'strength respect strength .',\n",
       " 'must strong militari power also econom power .',\n",
       " 'must go hand-in-hand .',\n",
       " 'good fortun work three great mind .',\n",
       " 'dr. vikram sarabhai dept .',\n",
       " 'space , professor satish dhawan , succeed dr. brahm prakash , father nuclear materi .',\n",
       " 'lucki work three close consid great opportun life .',\n",
       " 'see four mileston career']"
      ]
     },
     "execution_count": 89,
     "metadata": {},
     "output_type": "execute_result"
    }
   ],
   "source": [
    "sentence"
   ]
  },
  {
   "cell_type": "code",
   "execution_count": null,
   "id": "692adcb7-3663-4802-83ac-f2810b7c3393",
   "metadata": {},
   "outputs": [],
   "source": []
  },
  {
   "cell_type": "markdown",
   "id": "7205298c-43a7-4554-8eae-c680fa4815c9",
   "metadata": {},
   "source": [
    "### USING LEMMATIZATION"
   ]
  },
  {
   "cell_type": "code",
   "execution_count": 155,
   "id": "5bdcba32-42a9-46a0-bc8f-8ec27a04c230",
   "metadata": {},
   "outputs": [],
   "source": [
    "import nltk"
   ]
  },
  {
   "cell_type": "code",
   "execution_count": 156,
   "id": "8e5e033a-339b-4edd-bb31-490366f6a704",
   "metadata": {},
   "outputs": [],
   "source": [
    "from nltk.stem import WordNetLemmatizer"
   ]
  },
  {
   "cell_type": "code",
   "execution_count": 157,
   "id": "1d227787-195d-47b8-b64d-c3d25e000782",
   "metadata": {},
   "outputs": [],
   "source": [
    "from nltk.tokenize import word_tokenize, sent_tokenize"
   ]
  },
  {
   "cell_type": "code",
   "execution_count": 158,
   "id": "de867ee0-7494-4dc9-acfd-50f3ee6b0790",
   "metadata": {},
   "outputs": [],
   "source": [
    "from nltk.corpus import stopwords"
   ]
  },
  {
   "cell_type": "code",
   "execution_count": 159,
   "id": "9039dc60-2147-449c-886b-a05ce30bdf79",
   "metadata": {},
   "outputs": [],
   "source": [
    "stopword = set(stopwords.words('english'))"
   ]
  },
  {
   "cell_type": "code",
   "execution_count": 183,
   "id": "b1f299ab-d750-4868-bd5f-3795fb501e95",
   "metadata": {},
   "outputs": [],
   "source": [
    "message = \"\"\"I have three visions for India. In 3000 years of our history, people from all over \n",
    "               the world have come and invaded us, captured our lands, conquered our minds. \n",
    "               From Alexander onwards, the Greeks, the Turks, the Moguls, the Portuguese, the British,\n",
    "               the French, the Dutch, all of them came and looted us, took over what was ours. \n",
    "               Yet we have not done this to any other nation. We have not conquered anyone. \n",
    "               We have not grabbed their land, their culture, \n",
    "               their history and tried to enforce our way of life on them. \n",
    "               Why? Because we respect the freedom of others.That is why my \n",
    "               first vision is that of freedom. I believe that India got its first vision of \n",
    "               this in 1857, when we started the War of Independence. It is this freedom that\n",
    "               we must protect and nurture and build on. If we are not free, no one will respect us.\n",
    "               My second vision for India’s development. For fifty years we have been a developing nation.\n",
    "               It is time we see ourselves as a developed nation. We are among the top 5 nations of the world\n",
    "               in terms of GDP. We have a 10 percent growth rate in most areas. Our poverty levels are falling.\n",
    "               Our achievements are being globally recognised today. Yet we lack the self-confidence to\n",
    "               see ourselves as a developed nation, self-reliant and self-assured. Isn’t this incorrect?\n",
    "               I have a third vision. India must stand up to the world. Because I believe that unless India \n",
    "               stands up to the world, no one will respect us. Only strength respects strength. We must be \n",
    "               strong not only as a military power but also as an economic power. Both must go hand-in-hand. \n",
    "               My good fortune was to have worked with three great minds. Dr. Vikram Sarabhai of the Dept. of \n",
    "               space, Professor Satish Dhawan, who succeeded him and Dr. Brahm Prakash, father of nuclear material.\n",
    "               I was lucky to have worked with all three of them closely and consider this the great opportunity of my life. \n",
    "               I see four milestones in my career\"\"\""
   ]
  },
  {
   "cell_type": "code",
   "execution_count": 200,
   "id": "53bcd2a6-ed3f-424a-b233-90008766a15b",
   "metadata": {},
   "outputs": [],
   "source": [
    "lemmatizer = WordNetLemmatizer()"
   ]
  },
  {
   "cell_type": "code",
   "execution_count": 201,
   "id": "9199d204-22b9-44a2-9f6d-5a0355163fd3",
   "metadata": {},
   "outputs": [],
   "source": [
    "senten = sent_tokenize(message)"
   ]
  },
  {
   "cell_type": "code",
   "execution_count": 202,
   "id": "2f6db7a4-f9cd-4577-aa79-4016f5594594",
   "metadata": {},
   "outputs": [
    {
     "data": {
      "text/plain": [
       "['I have three visions for India.',\n",
       " 'In 3000 years of our history, people from all over \\n               the world have come and invaded us, captured our lands, conquered our minds.',\n",
       " 'From Alexander onwards, the Greeks, the Turks, the Moguls, the Portuguese, the British,\\n               the French, the Dutch, all of them came and looted us, took over what was ours.',\n",
       " 'Yet we have not done this to any other nation.',\n",
       " 'We have not conquered anyone.',\n",
       " 'We have not grabbed their land, their culture, \\n               their history and tried to enforce our way of life on them.',\n",
       " 'Why?',\n",
       " 'Because we respect the freedom of others.That is why my \\n               first vision is that of freedom.',\n",
       " 'I believe that India got its first vision of \\n               this in 1857, when we started the War of Independence.',\n",
       " 'It is this freedom that\\n               we must protect and nurture and build on.',\n",
       " 'If we are not free, no one will respect us.',\n",
       " 'My second vision for India’s development.',\n",
       " 'For fifty years we have been a developing nation.',\n",
       " 'It is time we see ourselves as a developed nation.',\n",
       " 'We are among the top 5 nations of the world\\n               in terms of GDP.',\n",
       " 'We have a 10 percent growth rate in most areas.',\n",
       " 'Our poverty levels are falling.',\n",
       " 'Our achievements are being globally recognised today.',\n",
       " 'Yet we lack the self-confidence to\\n               see ourselves as a developed nation, self-reliant and self-assured.',\n",
       " 'Isn’t this incorrect?',\n",
       " 'I have a third vision.',\n",
       " 'India must stand up to the world.',\n",
       " 'Because I believe that unless India \\n               stands up to the world, no one will respect us.',\n",
       " 'Only strength respects strength.',\n",
       " 'We must be \\n               strong not only as a military power but also as an economic power.',\n",
       " 'Both must go hand-in-hand.',\n",
       " 'My good fortune was to have worked with three great minds.',\n",
       " 'Dr. Vikram Sarabhai of the Dept.',\n",
       " 'of \\n               space, Professor Satish Dhawan, who succeeded him and Dr. Brahm Prakash, father of nuclear material.',\n",
       " 'I was lucky to have worked with all three of them closely and consider this the great opportunity of my life.',\n",
       " 'I see four milestones in my career']"
      ]
     },
     "execution_count": 202,
     "metadata": {},
     "output_type": "execute_result"
    }
   ],
   "source": [
    "senten"
   ]
  },
  {
   "cell_type": "code",
   "execution_count": 203,
   "id": "a25a0e8b-4572-4bc0-a539-eaa479e1df9f",
   "metadata": {},
   "outputs": [],
   "source": [
    "for i in range(len(senten)):\n",
    "    words = word_tokenize(senten[i])\n",
    "    words = [lemmatizer.lemmatize(word, pos='v') for word in words if word.lower() not in stopword]\n",
    "    senten[i] = ' '.join(words)"
   ]
  },
  {
   "cell_type": "code",
   "execution_count": 204,
   "id": "2b268d67-6c97-49ef-ba14-044a87bcde0a",
   "metadata": {},
   "outputs": [
    {
     "data": {
      "text/plain": [
       "['three visions India .',\n",
       " '3000 years history , people world come invade us , capture land , conquer mind .',\n",
       " 'Alexander onwards , Greeks , Turks , Moguls , Portuguese , British , French , Dutch , come loot us , take .',\n",
       " 'Yet do nation .',\n",
       " 'conquer anyone .',\n",
       " 'grab land , culture , history try enforce way life .',\n",
       " '?',\n",
       " 'respect freedom others.That first vision freedom .',\n",
       " 'believe India get first vision 1857 , start War Independence .',\n",
       " 'freedom must protect nurture build .',\n",
       " 'free , one respect us .',\n",
       " 'second vision India ’ development .',\n",
       " 'fifty years develop nation .',\n",
       " 'time see develop nation .',\n",
       " 'among top 5 nations world term GDP .',\n",
       " '10 percent growth rate areas .',\n",
       " 'poverty level fall .',\n",
       " 'achievements globally recognise today .',\n",
       " 'Yet lack self-confidence see develop nation , self-reliant self-assured .',\n",
       " '’ incorrect ?',\n",
       " 'third vision .',\n",
       " 'India must stand world .',\n",
       " 'believe unless India stand world , one respect us .',\n",
       " 'strength respect strength .',\n",
       " 'must strong military power also economic power .',\n",
       " 'must go hand-in-hand .',\n",
       " 'good fortune work three great mind .',\n",
       " 'Dr. Vikram Sarabhai Dept .',\n",
       " 'space , Professor Satish Dhawan , succeed Dr. Brahm Prakash , father nuclear material .',\n",
       " 'lucky work three closely consider great opportunity life .',\n",
       " 'see four milestones career']"
      ]
     },
     "execution_count": 204,
     "metadata": {},
     "output_type": "execute_result"
    }
   ],
   "source": [
    "senten"
   ]
  },
  {
   "cell_type": "code",
   "execution_count": null,
   "id": "40b592eb-bd42-4df9-87a8-c2ae35e2753d",
   "metadata": {},
   "outputs": [],
   "source": []
  },
  {
   "cell_type": "code",
   "execution_count": null,
   "id": "6d27a23e-1121-4dcc-b5e0-b8e920d0bcce",
   "metadata": {},
   "outputs": [],
   "source": []
  },
  {
   "cell_type": "markdown",
   "id": "6658436e-2ae5-4d22-807f-0747e53662a1",
   "metadata": {
    "jp-MarkdownHeadingCollapsed": true
   },
   "source": [
    "### Another code structure"
   ]
  },
  {
   "cell_type": "code",
   "execution_count": 205,
   "id": "05389253-c503-430f-89e2-a8f2c6e9330a",
   "metadata": {},
   "outputs": [
    {
     "name": "stdout",
     "output_type": "stream",
     "text": [
      "three vision india .\n",
      "3000 year histori , peopl world come invad us , captur land , conquer mind .\n",
      "alexand onward , greek , turk , mogul , portugues , british , french , dutch , came loot us , took .\n",
      "yet done nation .\n",
      "conquer anyon .\n",
      "grab land , cultur , histori tri enforc way life .\n",
      "?\n",
      "respect freedom others.that first vision freedom .\n",
      "believ india got first vision 1857 , start war independ .\n",
      "freedom must protect nurtur build .\n",
      "free , one respect us .\n",
      "second vision india ’ develop .\n",
      "fifti year develop nation .\n",
      "time see develop nation .\n",
      "among top 5 nation world term gdp .\n",
      "10 percent growth rate area .\n",
      "poverti level fall .\n",
      "achiev global recognis today .\n",
      "yet lack self-confid see develop nation , self-reli self-assur .\n",
      "’ incorrect ?\n",
      "third vision .\n",
      "india must stand world .\n",
      "believ unless india stand world , one respect us .\n",
      "strength respect strength .\n",
      "must strong militari power also econom power .\n",
      "must go hand-in-hand .\n",
      "good fortun work three great mind .\n",
      "dr. vikram sarabhai dept .\n",
      "space , professor satish dhawan , succeed dr. brahm prakash , father nuclear materi .\n",
      "lucki work three close consid great opportun life .\n",
      "see four mileston career\n"
     ]
    },
    {
     "name": "stderr",
     "output_type": "stream",
     "text": [
      "[nltk_data] Downloading package punkt to /Users/Odera\n",
      "[nltk_data]     Nnaji/nltk_data...\n",
      "[nltk_data]   Package punkt is already up-to-date!\n",
      "[nltk_data] Downloading package stopwords to /Users/Odera\n",
      "[nltk_data]     Nnaji/nltk_data...\n",
      "[nltk_data]   Package stopwords is already up-to-date!\n"
     ]
    }
   ],
   "source": [
    "import nltk\n",
    "from nltk.stem import SnowballStemmer\n",
    "from nltk.corpus import stopwords\n",
    "from nltk.tokenize import sent_tokenize, word_tokenize\n",
    "\n",
    "# Download NLTK data if not already downloaded\n",
    "nltk.download('punkt')\n",
    "nltk.download('stopwords')\n",
    "\n",
    "# Input text\n",
    "text = \"\"\"I have three visions for India. In 3000 years of our history, people from all over \n",
    "               the world have come and invaded us, captured our lands, conquered our minds. \n",
    "               From Alexander onwards, the Greeks, the Turks, the Moguls, the Portuguese, the British,\n",
    "               the French, the Dutch, all of them came and looted us, took over what was ours. \n",
    "               Yet we have not done this to any other nation. We have not conquered anyone. \n",
    "               We have not grabbed their land, their culture, \n",
    "               their history and tried to enforce our way of life on them. \n",
    "               Why? Because we respect the freedom of others.That is why my \n",
    "               first vision is that of freedom. I believe that India got its first vision of \n",
    "               this in 1857, when we started the War of Independence. It is this freedom that\n",
    "               we must protect and nurture and build on. If we are not free, no one will respect us.\n",
    "               My second vision for India’s development. For fifty years we have been a developing nation.\n",
    "               It is time we see ourselves as a developed nation. We are among the top 5 nations of the world\n",
    "               in terms of GDP. We have a 10 percent growth rate in most areas. Our poverty levels are falling.\n",
    "               Our achievements are being globally recognised today. Yet we lack the self-confidence to\n",
    "               see ourselves as a developed nation, self-reliant and self-assured. Isn’t this incorrect?\n",
    "               I have a third vision. India must stand up to the world. Because I believe that unless India \n",
    "               stands up to the world, no one will respect us. Only strength respects strength. We must be \n",
    "               strong not only as a military power but also as an economic power. Both must go hand-in-hand. \n",
    "               My good fortune was to have worked with three great minds. Dr. Vikram Sarabhai of the Dept. of \n",
    "               space, Professor Satish Dhawan, who succeeded him and Dr. Brahm Prakash, father of nuclear material.\n",
    "               I was lucky to have worked with all three of them closely and consider this the great opportunity of my life. \n",
    "               I see four milestones in my career\"\"\"\n",
    "\n",
    "# Initialize stemmer and stopwords\n",
    "stemming = SnowballStemmer('english')\n",
    "stopword = set(stopwords.words('english'))\n",
    "\n",
    "# Tokenize into sentences\n",
    "sentence = sent_tokenize(text)\n",
    "\n",
    "# Process each sentence\n",
    "for i in range(len(sentence)):  # Fixed loop\n",
    "    words = word_tokenize(sentence[i])  # Fixed tokenization\n",
    "    words = [stemming.stem(word) for word in words if word.lower() not in stopword]\n",
    "    sentence[i] = ' '.join(words)\n",
    "\n",
    "# Print the final processed sentences\n",
    "print('\\n'.join(sentence))\n"
   ]
  },
  {
   "cell_type": "code",
   "execution_count": null,
   "id": "6eaca20d-c057-4d12-ab9d-6537e1892887",
   "metadata": {},
   "outputs": [],
   "source": []
  }
 ],
 "metadata": {
  "kernelspec": {
   "display_name": "Python 3 (ipykernel)",
   "language": "python",
   "name": "python3"
  },
  "language_info": {
   "codemirror_mode": {
    "name": "ipython",
    "version": 3
   },
   "file_extension": ".py",
   "mimetype": "text/x-python",
   "name": "python",
   "nbconvert_exporter": "python",
   "pygments_lexer": "ipython3",
   "version": "3.12.2"
  }
 },
 "nbformat": 4,
 "nbformat_minor": 5
}
