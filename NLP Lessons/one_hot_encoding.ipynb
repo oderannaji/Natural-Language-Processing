{
 "cells": [
  {
   "cell_type": "code",
   "execution_count": 1,
   "id": "d59438b9-778e-44dd-8d49-10b5818cf6dc",
   "metadata": {},
   "outputs": [],
   "source": [
    "from nltk.tokenize import sent_tokenize, word_tokenize\n",
    "from string import punctuation"
   ]
  },
  {
   "cell_type": "code",
   "execution_count": 16,
   "id": "ea7ac335-ff58-4d5b-a357-163715cf5585",
   "metadata": {},
   "outputs": [],
   "source": [
    "mytext = ''' Dog bites man.\n",
    "             Man bites dog.\n",
    "             Dog eats meat.\n",
    "             Man eats food.\n",
    "             h, I see! You want to use a lambda function to count the number of times a specific word appears in a list or text. While lambda functions are great for simple operations, counting word occurrences is usually better handled with Python’s built-in tools like collections.Counter or list comprehensions. However, I’ll show you how to do it with a lambda function and explain the alternatives.'''"
   ]
  },
  {
   "cell_type": "code",
   "execution_count": 17,
   "id": "3a8751f9-86eb-4d97-9e9b-fd79837d81aa",
   "metadata": {},
   "outputs": [],
   "source": [
    "def pre_process(sentence):\n",
    "    return ' '.join(word.lower() for word in word_tokenize(sentence)\n",
    "                    if word.lower() not in punctuation)"
   ]
  },
  {
   "cell_type": "code",
   "execution_count": 18,
   "id": "732774fd-138a-4f71-a1ce-f100488eceb0",
   "metadata": {},
   "outputs": [
    {
     "name": "stdout",
     "output_type": "stream",
     "text": [
      "{'dog': 0, 'bites': 1, 'man': 2, 'eats': 3, 'meat': 4, 'food': 5, 'h': 6, 'i': 7, 'see': 8, 'you': 9, 'want': 10, 'to': 11, 'use': 12, 'a': 13, 'lambda': 14, 'function': 15, 'count': 16, 'the': 17, 'number': 18, 'of': 19, 'times': 20, 'specific': 21, 'word': 22, 'appears': 23, 'in': 24, 'list': 25, 'or': 26, 'text': 27, 'while': 28, 'functions': 29, 'are': 30, 'great': 31, 'for': 32, 'simple': 33, 'operations': 34, 'counting': 35, 'occurrences': 36, 'is': 37, 'usually': 38, 'better': 39, 'handled': 40, 'with': 41, 'python': 42, '’': 43, 's': 44, 'built-in': 45, 'tools': 46, 'like': 47, 'collections.counter': 48, 'comprehensions': 49, 'however': 50, 'll': 51, 'show': 52, 'how': 53, 'do': 54, 'it': 55, 'and': 56, 'explain': 57, 'alternatives': 58}\n"
     ]
    }
   ],
   "source": [
    "vocab = {}\n",
    "\n",
    "my_sentence = sent_tokenize(mytext)\n",
    "for sentence in my_sentence:\n",
    "    my_words = word_tokenize(pre_process(sentence))\n",
    "    for token in my_words:\n",
    "        if token not in vocab.keys():\n",
    "            vocab[token] = len(vocab)\n",
    "print(vocab)"
   ]
  },
  {
   "cell_type": "code",
   "execution_count": 15,
   "id": "9b508093-8aad-46f9-8051-cd36258f9610",
   "metadata": {},
   "outputs": [
    {
     "name": "stdout",
     "output_type": "stream",
     "text": [
      "dog = one-hot-encoding: [[1, 0, 0, 0, 0, 0]]\n",
      " Dog bites man. = one-hot-encoding: [[1, 0, 0, 0, 0, 0], [0, 1, 0, 0, 0, 0], [0, 0, 1, 0, 0, 0]]\n"
     ]
    }
   ],
   "source": [
    "def get_one_hot_vector(vocab, sentence):\n",
    "    onehot_encoded = []\n",
    "    for word in word_tokenize(pre_process(sentence)):\n",
    "        temp = [0] * len(vocab)\n",
    "        if word in vocab:\n",
    "            temp[vocab[word]] = 1\n",
    "        onehot_encoded.append(temp)\n",
    "    print(f'{sentence} = one-hot-encoding: {onehot_encoded}')\n",
    "\n",
    "get_one_hot_vector(vocab, 'dog')\n",
    "get_one_hot_vector(vocab, my_sentence[0])"
   ]
  },
  {
   "cell_type": "code",
   "execution_count": null,
   "id": "b678d5f0-84ab-4468-becd-0b57c8add376",
   "metadata": {},
   "outputs": [],
   "source": []
  }
 ],
 "metadata": {
  "kernelspec": {
   "display_name": "Python 3 (ipykernel)",
   "language": "python",
   "name": "python3"
  },
  "language_info": {
   "codemirror_mode": {
    "name": "ipython",
    "version": 3
   },
   "file_extension": ".py",
   "mimetype": "text/x-python",
   "name": "python",
   "nbconvert_exporter": "python",
   "pygments_lexer": "ipython3",
   "version": "3.12.2"
  }
 },
 "nbformat": 4,
 "nbformat_minor": 5
}
