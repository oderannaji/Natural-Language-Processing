{
 "cells": [
  {
   "cell_type": "code",
   "execution_count": 1,
   "id": "6e198ca4-c948-444f-a0b1-8bf07034a4d6",
   "metadata": {},
   "outputs": [],
   "source": [
    "sentence = \"The Eiffel Tower was built from 1887 to 1889 by Gustave Eiffel, whose company specialized in building metal frameworks and structures.\""
   ]
  },
  {
   "cell_type": "code",
   "execution_count": 2,
   "id": "b75c4e7d-cd1a-4457-9eac-035e6d375a18",
   "metadata": {},
   "outputs": [],
   "source": [
    "import nltk\n",
    "from nltk.tokenize import word_tokenize, sent_tokenize"
   ]
  },
  {
   "cell_type": "code",
   "execution_count": 3,
   "id": "0957d1c9-c5b8-4c14-b820-fd3c5728317c",
   "metadata": {},
   "outputs": [],
   "source": [
    "text = word_tokenize(sentence)"
   ]
  },
  {
   "cell_type": "code",
   "execution_count": 4,
   "id": "3830f408-e2da-43a1-810a-6e996fd8a00d",
   "metadata": {},
   "outputs": [],
   "source": [
    "from nltk.tag import pos_tag"
   ]
  },
  {
   "cell_type": "code",
   "execution_count": 5,
   "id": "2d878ca3-cf94-4249-afe8-a5ebe0c9a949",
   "metadata": {},
   "outputs": [],
   "source": [
    "postag = pos_tag(text)"
   ]
  },
  {
   "cell_type": "code",
   "execution_count": 6,
   "id": "5861cfdf-115b-4c1d-840d-375841878e0a",
   "metadata": {},
   "outputs": [
    {
     "data": {
      "text/plain": [
       "[('The', 'DT'),\n",
       " ('Eiffel', 'NNP'),\n",
       " ('Tower', 'NNP'),\n",
       " ('was', 'VBD'),\n",
       " ('built', 'VBN'),\n",
       " ('from', 'IN'),\n",
       " ('1887', 'CD'),\n",
       " ('to', 'TO'),\n",
       " ('1889', 'CD'),\n",
       " ('by', 'IN'),\n",
       " ('Gustave', 'NNP'),\n",
       " ('Eiffel', 'NNP'),\n",
       " (',', ','),\n",
       " ('whose', 'WP$'),\n",
       " ('company', 'NN'),\n",
       " ('specialized', 'VBD'),\n",
       " ('in', 'IN'),\n",
       " ('building', 'NN'),\n",
       " ('metal', 'NN'),\n",
       " ('frameworks', 'NNS'),\n",
       " ('and', 'CC'),\n",
       " ('structures', 'NNS'),\n",
       " ('.', '.')]"
      ]
     },
     "execution_count": 6,
     "metadata": {},
     "output_type": "execute_result"
    }
   ],
   "source": [
    "postag"
   ]
  },
  {
   "cell_type": "code",
   "execution_count": 7,
   "id": "9c1f500e-1888-49d5-afe5-f12bda80a27d",
   "metadata": {},
   "outputs": [],
   "source": [
    "from nltk.chunk import ne_chunk"
   ]
  },
  {
   "cell_type": "code",
   "execution_count": 8,
   "id": "f4b43e5e-1361-4098-b3d0-0630b98832e7",
   "metadata": {},
   "outputs": [
    {
     "name": "stderr",
     "output_type": "stream",
     "text": [
      "2025-02-06 11:42:26.638 python[68193:2533824] +[IMKClient subclass]: chose IMKClient_Modern\n",
      "2025-02-06 11:42:26.638 python[68193:2533824] +[IMKInputSession subclass]: chose IMKInputSession_Modern\n"
     ]
    }
   ],
   "source": [
    "## ne_chunk(postag).draw()"
   ]
  },
  {
   "cell_type": "code",
   "execution_count": null,
   "id": "b1cb86c7-c2d1-4b3d-897b-970d04f2da6d",
   "metadata": {},
   "outputs": [],
   "source": []
  },
  {
   "cell_type": "code",
   "execution_count": 13,
   "id": "b5fb295b-690d-4c80-aea5-4fa3c1d56946",
   "metadata": {},
   "outputs": [],
   "source": [
    "postagging = pos_tag(word_tokenize(sentence))"
   ]
  },
  {
   "cell_type": "code",
   "execution_count": 15,
   "id": "9ab66486-dedc-40c5-84f8-0b4241a988b2",
   "metadata": {},
   "outputs": [],
   "source": [
    "ne_chunk(postagging).draw()"
   ]
  },
  {
   "cell_type": "code",
   "execution_count": null,
   "id": "686c255e-7255-4c7a-842b-3f24894b9fc3",
   "metadata": {},
   "outputs": [],
   "source": []
  }
 ],
 "metadata": {
  "kernelspec": {
   "display_name": "Python 3 (ipykernel)",
   "language": "python",
   "name": "python3"
  },
  "language_info": {
   "codemirror_mode": {
    "name": "ipython",
    "version": 3
   },
   "file_extension": ".py",
   "mimetype": "text/x-python",
   "name": "python",
   "nbconvert_exporter": "python",
   "pygments_lexer": "ipython3",
   "version": "3.12.2"
  }
 },
 "nbformat": 4,
 "nbformat_minor": 5
}
