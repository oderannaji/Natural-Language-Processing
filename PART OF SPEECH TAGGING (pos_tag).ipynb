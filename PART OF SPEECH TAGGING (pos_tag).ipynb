{
 "cells": [
  {
   "cell_type": "markdown",
   "id": "824b40a4-cacd-4c78-b3d2-d5e1681715b2",
   "metadata": {},
   "source": [
    "## SOME PART OF SPEECH TAGS\n",
    "- CC\tCoordinating conjunction\n",
    "- CD\tCardinal number\n",
    "- DT\tDeterminer\n",
    "- EX\tExistential ‘there’\n",
    "- FW\tForeign word\n",
    "- IN\tPreposition / subordinating conjunction\n",
    "- JJ\tAdjective\n",
    "- JJR\tAdjective, comparative\n",
    "- JJS\tAdjective, superlative\n",
    "- LS\tList item marker\n",
    "- MD\tModal verb\n",
    "- NN\tNoun, singular or mass\n",
    "- NNS\tNoun, plural\n",
    "- NNP\tProper noun, singular\n",
    "- NNPS\tProper noun, plural\n",
    "- PDT\tPredeterminer\n",
    "- POS\tPossessive ending\n",
    "- PRP\tPersonal pronoun\n",
    "- PRP$\tPossessive pronoun\n",
    "- RB\tAdverb\n",
    "- RBR\tAdverb, comparative\n",
    "- RBS\tAdverb, superlative\n",
    "- RP\tParticle\n",
    "- SYM\tSymbol\n",
    "- TO\t\"to\" as a preposition or infinitive marker\n",
    "- UH\tInterjection\n",
    "- VB\tVerb, base form\n",
    "- VBD\tVerb, past tense\n",
    "- VBG\tVerb, gerund/present participle\n",
    "- VBN\tVerb, past participle\n",
    "- VBP\tVerb, non-3rd person singular present\n",
    "- VBZ\tVerb, 3rd person singular present\n",
    "- WDT\tWh-determiner\n",
    "- WP\tWh-pronoun\n",
    "- WPs\tPossessive wh-pronoun\n",
    "- WRB\tWh-adverb"
   ]
  },
  {
   "cell_type": "code",
   "execution_count": 10,
   "id": "509840d9-1db4-4799-9cab-bde284604f0d",
   "metadata": {},
   "outputs": [],
   "source": [
    "from nltk.tag import pos_tag"
   ]
  },
  {
   "cell_type": "code",
   "execution_count": 1,
   "id": "33f716ce-2729-4e99-ae59-920873b11354",
   "metadata": {},
   "outputs": [],
   "source": [
    "paragraph = \"\"\"I have three visions for India. In 3000 years of our history, people from all over \n",
    "               the world have come and invaded us, captured our lands, conquered our minds. \n",
    "               From Alexander onwards, the Greeks, the Turks, the Moguls, the Portuguese, the British,\n",
    "               the French, the Dutch, all of them came and looted us, took over what was ours. \n",
    "               Yet we have not done this to any other nation. We have not conquered anyone. \n",
    "               We have not grabbed their land, their culture, \n",
    "               their history and tried to enforce our way of life on them. \n",
    "               Why? Because we respect the freedom of others.That is why my \n",
    "               first vision is that of freedom. I believe that India got its first vision of \n",
    "               this in 1857, when we started the War of Independence. It is this freedom that\n",
    "               we must protect and nurture and build on. If we are not free, no one will respect us.\n",
    "               My second vision for India’s development. For fifty years we have been a developing nation.\n",
    "               It is time we see ourselves as a developed nation. We are among the top 5 nations of the world\n",
    "               in terms of GDP. We have a 10 percent growth rate in most areas. Our poverty levels are falling.\n",
    "               Our achievements are being globally recognised today. Yet we lack the self-confidence to\n",
    "               see ourselves as a developed nation, self-reliant and self-assured. Isn’t this incorrect?\n",
    "               I have a third vision. India must stand up to the world. Because I believe that unless India \n",
    "               stands up to the world, no one will respect us. Only strength respects strength. We must be \n",
    "               strong not only as a military power but also as an economic power. Both must go hand-in-hand. \n",
    "               My good fortune was to have worked with three great minds. Dr. Vikram Sarabhai of the Dept. of \n",
    "               space, Professor Satish Dhawan, who succeeded him and Dr. Brahm Prakash, father of nuclear material.\n",
    "               I was lucky to have worked with all three of them closely and consider this the great opportunity of my life. \n",
    "               I see four milestones in my career\"\"\""
   ]
  },
  {
   "cell_type": "code",
   "execution_count": 2,
   "id": "b68180a1-c5e8-482f-aff7-91e6ec3d9b74",
   "metadata": {},
   "outputs": [],
   "source": [
    "import nltk\n",
    "from nltk.tokenize import sent_tokenize, word_tokenize\n",
    "from nltk.corpus import stopwords"
   ]
  },
  {
   "cell_type": "code",
   "execution_count": 3,
   "id": "504da2bd-5b6e-4b28-8eaa-33db1a33644b",
   "metadata": {},
   "outputs": [],
   "source": [
    "sentences = sent_tokenize(paragraph)"
   ]
  },
  {
   "cell_type": "code",
   "execution_count": 9,
   "id": "de3717ff-bef2-49e2-b31b-ec3177588077",
   "metadata": {},
   "outputs": [
    {
     "name": "stdout",
     "output_type": "stream",
     "text": [
      "[('I', 'PRP'), ('have', 'VBP'), ('three', 'CD'), ('visions', 'NNS'), ('for', 'IN'), ('India', 'NNP'), ('.', '.')]\n",
      "[('In', 'IN'), ('3000', 'CD'), ('years', 'NNS'), ('of', 'IN'), ('our', 'PRP$'), ('history', 'NN'), (',', ','), ('people', 'NNS'), ('from', 'IN'), ('all', 'DT'), ('over', 'IN'), ('the', 'DT'), ('world', 'NN'), ('have', 'VBP'), ('come', 'VBN'), ('and', 'CC'), ('invaded', 'VBN'), ('us', 'PRP'), (',', ','), ('captured', 'VBD'), ('our', 'PRP$'), ('lands', 'NNS'), (',', ','), ('conquered', 'VBD'), ('our', 'PRP$'), ('minds', 'NNS'), ('.', '.')]\n",
      "[('From', 'IN'), ('Alexander', 'NNP'), ('onwards', 'NNS'), (',', ','), ('the', 'DT'), ('Greeks', 'NNP'), (',', ','), ('the', 'DT'), ('Turks', 'NNP'), (',', ','), ('the', 'DT'), ('Moguls', 'NNP'), (',', ','), ('the', 'DT'), ('Portuguese', 'NNP'), (',', ','), ('the', 'DT'), ('British', 'JJ'), (',', ','), ('the', 'DT'), ('French', 'JJ'), (',', ','), ('the', 'DT'), ('Dutch', 'NNP'), (',', ','), ('all', 'DT'), ('of', 'IN'), ('them', 'PRP'), ('came', 'VBD'), ('and', 'CC'), ('looted', 'VBD'), ('us', 'PRP'), (',', ','), ('took', 'VBD'), ('over', 'RP'), ('what', 'WP'), ('was', 'VBD'), ('ours', 'PRP'), ('.', '.')]\n",
      "[('Yet', 'RB'), ('we', 'PRP'), ('have', 'VBP'), ('not', 'RB'), ('done', 'VBN'), ('this', 'DT'), ('to', 'TO'), ('any', 'DT'), ('other', 'JJ'), ('nation', 'NN'), ('.', '.')]\n",
      "[('We', 'PRP'), ('have', 'VBP'), ('not', 'RB'), ('conquered', 'VBN'), ('anyone', 'NN'), ('.', '.')]\n",
      "[('We', 'PRP'), ('have', 'VBP'), ('not', 'RB'), ('grabbed', 'VBN'), ('their', 'PRP$'), ('land', 'NN'), (',', ','), ('their', 'PRP$'), ('culture', 'NN'), (',', ','), ('their', 'PRP$'), ('history', 'NN'), ('and', 'CC'), ('tried', 'VBD'), ('to', 'TO'), ('enforce', 'VB'), ('our', 'PRP$'), ('way', 'NN'), ('of', 'IN'), ('life', 'NN'), ('on', 'IN'), ('them', 'PRP'), ('.', '.')]\n",
      "[('Why', 'WRB'), ('?', '.')]\n",
      "[('Because', 'IN'), ('we', 'PRP'), ('respect', 'VBP'), ('the', 'DT'), ('freedom', 'NN'), ('of', 'IN'), ('others.That', 'WP'), ('is', 'VBZ'), ('why', 'WRB'), ('my', 'PRP$'), ('first', 'JJ'), ('vision', 'NN'), ('is', 'VBZ'), ('that', 'IN'), ('of', 'IN'), ('freedom', 'NN'), ('.', '.')]\n",
      "[('I', 'PRP'), ('believe', 'VBP'), ('that', 'IN'), ('India', 'NNP'), ('got', 'VBD'), ('its', 'PRP$'), ('first', 'JJ'), ('vision', 'NN'), ('of', 'IN'), ('this', 'DT'), ('in', 'IN'), ('1857', 'CD'), (',', ','), ('when', 'WRB'), ('we', 'PRP'), ('started', 'VBD'), ('the', 'DT'), ('War', 'NNP'), ('of', 'IN'), ('Independence', 'NNP'), ('.', '.')]\n",
      "[('It', 'PRP'), ('is', 'VBZ'), ('this', 'DT'), ('freedom', 'NN'), ('that', 'IN'), ('we', 'PRP'), ('must', 'MD'), ('protect', 'VB'), ('and', 'CC'), ('nurture', 'NN'), ('and', 'CC'), ('build', 'VB'), ('on', 'IN'), ('.', '.')]\n",
      "[('If', 'IN'), ('we', 'PRP'), ('are', 'VBP'), ('not', 'RB'), ('free', 'JJ'), (',', ','), ('no', 'DT'), ('one', 'NN'), ('will', 'MD'), ('respect', 'VB'), ('us', 'PRP'), ('.', '.')]\n",
      "[('My', 'PRP$'), ('second', 'JJ'), ('vision', 'NN'), ('for', 'IN'), ('India', 'NNP'), ('’', 'NNP'), ('s', 'NN'), ('development', 'NN'), ('.', '.')]\n",
      "[('For', 'IN'), ('fifty', 'JJ'), ('years', 'NNS'), ('we', 'PRP'), ('have', 'VBP'), ('been', 'VBN'), ('a', 'DT'), ('developing', 'VBG'), ('nation', 'NN'), ('.', '.')]\n",
      "[('It', 'PRP'), ('is', 'VBZ'), ('time', 'NN'), ('we', 'PRP'), ('see', 'VBP'), ('ourselves', 'PRP'), ('as', 'IN'), ('a', 'DT'), ('developed', 'JJ'), ('nation', 'NN'), ('.', '.')]\n",
      "[('We', 'PRP'), ('are', 'VBP'), ('among', 'IN'), ('the', 'DT'), ('top', 'JJ'), ('5', 'CD'), ('nations', 'NNS'), ('of', 'IN'), ('the', 'DT'), ('world', 'NN'), ('in', 'IN'), ('terms', 'NNS'), ('of', 'IN'), ('GDP', 'NNP'), ('.', '.')]\n",
      "[('We', 'PRP'), ('have', 'VBP'), ('a', 'DT'), ('10', 'CD'), ('percent', 'NN'), ('growth', 'NN'), ('rate', 'NN'), ('in', 'IN'), ('most', 'JJS'), ('areas', 'NNS'), ('.', '.')]\n",
      "[('Our', 'PRP$'), ('poverty', 'NN'), ('levels', 'NNS'), ('are', 'VBP'), ('falling', 'VBG'), ('.', '.')]\n",
      "[('Our', 'PRP$'), ('achievements', 'NNS'), ('are', 'VBP'), ('being', 'VBG'), ('globally', 'RB'), ('recognised', 'VBN'), ('today', 'NN'), ('.', '.')]\n",
      "[('Yet', 'CC'), ('we', 'PRP'), ('lack', 'VBP'), ('the', 'DT'), ('self-confidence', 'NN'), ('to', 'TO'), ('see', 'VB'), ('ourselves', 'PRP'), ('as', 'IN'), ('a', 'DT'), ('developed', 'JJ'), ('nation', 'NN'), (',', ','), ('self-reliant', 'JJ'), ('and', 'CC'), ('self-assured', 'JJ'), ('.', '.')]\n",
      "[('Isn', 'NNP'), ('’', 'NNP'), ('t', 'NN'), ('this', 'DT'), ('incorrect', 'NN'), ('?', '.')]\n",
      "[('I', 'PRP'), ('have', 'VBP'), ('a', 'DT'), ('third', 'JJ'), ('vision', 'NN'), ('.', '.')]\n",
      "[('India', 'NNP'), ('must', 'MD'), ('stand', 'VB'), ('up', 'RP'), ('to', 'TO'), ('the', 'DT'), ('world', 'NN'), ('.', '.')]\n",
      "[('Because', 'IN'), ('I', 'PRP'), ('believe', 'VBP'), ('that', 'IN'), ('unless', 'IN'), ('India', 'NNP'), ('stands', 'VBZ'), ('up', 'RP'), ('to', 'TO'), ('the', 'DT'), ('world', 'NN'), (',', ','), ('no', 'DT'), ('one', 'NN'), ('will', 'MD'), ('respect', 'VB'), ('us', 'PRP'), ('.', '.')]\n",
      "[('Only', 'RB'), ('strength', 'NN'), ('respects', 'NNS'), ('strength', 'NN'), ('.', '.')]\n",
      "[('We', 'PRP'), ('must', 'MD'), ('be', 'VB'), ('strong', 'JJ'), ('not', 'RB'), ('only', 'RB'), ('as', 'IN'), ('a', 'DT'), ('military', 'JJ'), ('power', 'NN'), ('but', 'CC'), ('also', 'RB'), ('as', 'IN'), ('an', 'DT'), ('economic', 'JJ'), ('power', 'NN'), ('.', '.')]\n",
      "[('Both', 'DT'), ('must', 'MD'), ('go', 'VB'), ('hand-in-hand', 'NN'), ('.', '.')]\n",
      "[('My', 'PRP$'), ('good', 'JJ'), ('fortune', 'NN'), ('was', 'VBD'), ('to', 'TO'), ('have', 'VB'), ('worked', 'VBN'), ('with', 'IN'), ('three', 'CD'), ('great', 'JJ'), ('minds', 'NNS'), ('.', '.')]\n",
      "[('Dr.', 'NNP'), ('Vikram', 'NNP'), ('Sarabhai', 'NNP'), ('of', 'IN'), ('the', 'DT'), ('Dept', 'NNP'), ('.', '.')]\n",
      "[('of', 'IN'), ('space', 'NN'), (',', ','), ('Professor', 'NNP'), ('Satish', 'NNP'), ('Dhawan', 'NNP'), (',', ','), ('who', 'WP'), ('succeeded', 'VBD'), ('him', 'PRP'), ('and', 'CC'), ('Dr.', 'NNP'), ('Brahm', 'NNP'), ('Prakash', 'NNP'), (',', ','), ('father', 'NN'), ('of', 'IN'), ('nuclear', 'JJ'), ('material', 'NN'), ('.', '.')]\n",
      "[('I', 'PRP'), ('was', 'VBD'), ('lucky', 'JJ'), ('to', 'TO'), ('have', 'VB'), ('worked', 'VBN'), ('with', 'IN'), ('all', 'DT'), ('three', 'CD'), ('of', 'IN'), ('them', 'PRP'), ('closely', 'RB'), ('and', 'CC'), ('consider', 'VB'), ('this', 'DT'), ('the', 'DT'), ('great', 'JJ'), ('opportunity', 'NN'), ('of', 'IN'), ('my', 'PRP$'), ('life', 'NN'), ('.', '.')]\n",
      "[('I', 'PRP'), ('see', 'VBP'), ('four', 'CD'), ('milestones', 'NNS'), ('in', 'IN'), ('my', 'PRP$'), ('career', 'NN')]\n"
     ]
    }
   ],
   "source": [
    "for i in range(len(sentences)):\n",
    "    words = word_tokenize(sentences[i])\n",
    "    words = [word for word in words if word.lower not in set(stopwords.words('english'))]\n",
    "    pos_tag = nltk.pos_tag(words)\n",
    "    print(pos_tag) "
   ]
  },
  {
   "cell_type": "code",
   "execution_count": 5,
   "id": "58f2e520-ef7d-4d7c-808a-0af84e636a19",
   "metadata": {},
   "outputs": [
    {
     "data": {
      "text/plain": [
       "'Taj Mahal is a beautiful Monument'"
      ]
     },
     "execution_count": 5,
     "metadata": {},
     "output_type": "execute_result"
    }
   ],
   "source": [
    "'Taj Mahal is a beautiful Monument'"
   ]
  },
  {
   "cell_type": "code",
   "execution_count": 6,
   "id": "bab399d2-1fb5-4ff8-b28e-6081d3c65eb1",
   "metadata": {},
   "outputs": [],
   "source": [
    "pos_tag = nltk.pos_tag(word_tokenize('Taj Mahal is a beautiful Monument'))"
   ]
  },
  {
   "cell_type": "code",
   "execution_count": 7,
   "id": "5c5884aa-4609-4f29-a6b9-e8da6a7fc5f5",
   "metadata": {},
   "outputs": [
    {
     "data": {
      "text/plain": [
       "[('Taj', 'NNP'),\n",
       " ('Mahal', 'NNP'),\n",
       " ('is', 'VBZ'),\n",
       " ('a', 'DT'),\n",
       " ('beautiful', 'JJ'),\n",
       " ('Monument', 'NN')]"
      ]
     },
     "execution_count": 7,
     "metadata": {},
     "output_type": "execute_result"
    }
   ],
   "source": [
    "pos_tag"
   ]
  },
  {
   "cell_type": "markdown",
   "id": "8d7bb038-36e8-4a3a-a917-64b3a2632662",
   "metadata": {},
   "source": [
    "## Without stopwords"
   ]
  },
  {
   "cell_type": "code",
   "execution_count": 13,
   "id": "2538e7e8-c8c2-4941-97f1-8b7b335aa833",
   "metadata": {},
   "outputs": [],
   "source": [
    "from nltk.tag import pos_tag"
   ]
  },
  {
   "cell_type": "code",
   "execution_count": 14,
   "id": "236f07db-5c05-4a97-bb92-c03e171eb4de",
   "metadata": {},
   "outputs": [],
   "source": [
    "text = \"\"\"I have three visions for India. In 3000 years of our history, people from all over \n",
    "               the world have come and invaded us, captured our lands, conquered our minds. \n",
    "               From Alexander onwards, the Greeks, the Turks, the Moguls, the Portuguese, the British,\n",
    "               the French, the Dutch, all of them came and looted us, took over what was ours. \n",
    "               Yet we have not done this to any other nation. We have not conquered anyone. \n",
    "               We have not grabbed their land, their culture, \n",
    "               their history and tried to enforce our way of life on them. \n",
    "               Why? Because we respect the freedom of others.That is why my \n",
    "               first vision is that of freedom. I believe that India got its first vision of \n",
    "               this in 1857, when we started the War of Independence. It is this freedom that\n",
    "               we must protect and nurture and build on. If we are not free, no one will respect us.\n",
    "               My second vision for India’s development. For fifty years we have been a developing nation.\n",
    "               It is time we see ourselves as a developed nation. We are among the top 5 nations of the world\n",
    "               in terms of GDP. We have a 10 percent growth rate in most areas. Our poverty levels are falling.\n",
    "               Our achievements are being globally recognised today. Yet we lack the self-confidence to\n",
    "               see ourselves as a developed nation, self-reliant and self-assured. Isn’t this incorrect?\n",
    "               I have a third vision. India must stand up to the world. Because I believe that unless India \n",
    "               stands up to the world, no one will respect us. Only strength respects strength. We must be \n",
    "               strong not only as a military power but also as an economic power. Both must go hand-in-hand. \n",
    "               My good fortune was to have worked with three great minds. Dr. Vikram Sarabhai of the Dept. of \n",
    "               space, Professor Satish Dhawan, who succeeded him and Dr. Brahm Prakash, father of nuclear material.\n",
    "               I was lucky to have worked with all three of them closely and consider this the great opportunity of my life. \n",
    "               I see four milestones in my career\"\"\""
   ]
  },
  {
   "cell_type": "code",
   "execution_count": 15,
   "id": "d9933a8a-e7f8-4424-a2f5-6e1e4e82a89d",
   "metadata": {},
   "outputs": [],
   "source": [
    "pos = pos_tag(word_tokenize(text))"
   ]
  },
  {
   "cell_type": "code",
   "execution_count": 16,
   "id": "04e155a4-e991-41cc-ac96-bb49eb33e115",
   "metadata": {},
   "outputs": [],
   "source": [
    "from nltk.tokenize import word_tokenize"
   ]
  },
  {
   "cell_type": "code",
   "execution_count": 17,
   "id": "501b741e-b93d-42fc-97b1-702fec8b2916",
   "metadata": {},
   "outputs": [],
   "source": [
    "pos = pos_tag(word_tokenize(text))"
   ]
  },
  {
   "cell_type": "code",
   "execution_count": 18,
   "id": "77a742db-7ab3-480d-bd07-671060751e7e",
   "metadata": {},
   "outputs": [
    {
     "name": "stdout",
     "output_type": "stream",
     "text": [
      "[('I', 'PRP'), ('have', 'VBP'), ('three', 'CD'), ('visions', 'NNS'), ('for', 'IN'), ('India', 'NNP'), ('.', '.'), ('In', 'IN'), ('3000', 'CD'), ('years', 'NNS'), ('of', 'IN'), ('our', 'PRP$'), ('history', 'NN'), (',', ','), ('people', 'NNS'), ('from', 'IN'), ('all', 'DT'), ('over', 'IN'), ('the', 'DT'), ('world', 'NN'), ('have', 'VBP'), ('come', 'VBN'), ('and', 'CC'), ('invaded', 'VBN'), ('us', 'PRP'), (',', ','), ('captured', 'VBD'), ('our', 'PRP$'), ('lands', 'NNS'), (',', ','), ('conquered', 'VBD'), ('our', 'PRP$'), ('minds', 'NNS'), ('.', '.'), ('From', 'IN'), ('Alexander', 'NNP'), ('onwards', 'NNS'), (',', ','), ('the', 'DT'), ('Greeks', 'NNP'), (',', ','), ('the', 'DT'), ('Turks', 'NNP'), (',', ','), ('the', 'DT'), ('Moguls', 'NNP'), (',', ','), ('the', 'DT'), ('Portuguese', 'NNP'), (',', ','), ('the', 'DT'), ('British', 'JJ'), (',', ','), ('the', 'DT'), ('French', 'JJ'), (',', ','), ('the', 'DT'), ('Dutch', 'NNP'), (',', ','), ('all', 'DT'), ('of', 'IN'), ('them', 'PRP'), ('came', 'VBD'), ('and', 'CC'), ('looted', 'VBD'), ('us', 'PRP'), (',', ','), ('took', 'VBD'), ('over', 'RP'), ('what', 'WP'), ('was', 'VBD'), ('ours', 'RB'), ('.', '.'), ('Yet', 'CC'), ('we', 'PRP'), ('have', 'VBP'), ('not', 'RB'), ('done', 'VBN'), ('this', 'DT'), ('to', 'TO'), ('any', 'DT'), ('other', 'JJ'), ('nation', 'NN'), ('.', '.'), ('We', 'PRP'), ('have', 'VBP'), ('not', 'RB'), ('conquered', 'VBN'), ('anyone', 'NN'), ('.', '.'), ('We', 'PRP'), ('have', 'VBP'), ('not', 'RB'), ('grabbed', 'VBN'), ('their', 'PRP$'), ('land', 'NN'), (',', ','), ('their', 'PRP$'), ('culture', 'NN'), (',', ','), ('their', 'PRP$'), ('history', 'NN'), ('and', 'CC'), ('tried', 'VBD'), ('to', 'TO'), ('enforce', 'VB'), ('our', 'PRP$'), ('way', 'NN'), ('of', 'IN'), ('life', 'NN'), ('on', 'IN'), ('them', 'PRP'), ('.', '.'), ('Why', 'WRB'), ('?', '.'), ('Because', 'IN'), ('we', 'PRP'), ('respect', 'VBP'), ('the', 'DT'), ('freedom', 'NN'), ('of', 'IN'), ('others.That', 'WP'), ('is', 'VBZ'), ('why', 'WRB'), ('my', 'PRP$'), ('first', 'JJ'), ('vision', 'NN'), ('is', 'VBZ'), ('that', 'IN'), ('of', 'IN'), ('freedom', 'NN'), ('.', '.'), ('I', 'PRP'), ('believe', 'VBP'), ('that', 'IN'), ('India', 'NNP'), ('got', 'VBD'), ('its', 'PRP$'), ('first', 'JJ'), ('vision', 'NN'), ('of', 'IN'), ('this', 'DT'), ('in', 'IN'), ('1857', 'CD'), (',', ','), ('when', 'WRB'), ('we', 'PRP'), ('started', 'VBD'), ('the', 'DT'), ('War', 'NNP'), ('of', 'IN'), ('Independence', 'NNP'), ('.', '.'), ('It', 'PRP'), ('is', 'VBZ'), ('this', 'DT'), ('freedom', 'NN'), ('that', 'IN'), ('we', 'PRP'), ('must', 'MD'), ('protect', 'VB'), ('and', 'CC'), ('nurture', 'NN'), ('and', 'CC'), ('build', 'VB'), ('on', 'IN'), ('.', '.'), ('If', 'IN'), ('we', 'PRP'), ('are', 'VBP'), ('not', 'RB'), ('free', 'JJ'), (',', ','), ('no', 'DT'), ('one', 'NN'), ('will', 'MD'), ('respect', 'VB'), ('us', 'PRP'), ('.', '.'), ('My', 'PRP$'), ('second', 'JJ'), ('vision', 'NN'), ('for', 'IN'), ('India', 'NNP'), ('’', 'NNP'), ('s', 'NN'), ('development', 'NN'), ('.', '.'), ('For', 'IN'), ('fifty', 'JJ'), ('years', 'NNS'), ('we', 'PRP'), ('have', 'VBP'), ('been', 'VBN'), ('a', 'DT'), ('developing', 'VBG'), ('nation', 'NN'), ('.', '.'), ('It', 'PRP'), ('is', 'VBZ'), ('time', 'NN'), ('we', 'PRP'), ('see', 'VBP'), ('ourselves', 'PRP'), ('as', 'IN'), ('a', 'DT'), ('developed', 'JJ'), ('nation', 'NN'), ('.', '.'), ('We', 'PRP'), ('are', 'VBP'), ('among', 'IN'), ('the', 'DT'), ('top', 'JJ'), ('5', 'CD'), ('nations', 'NNS'), ('of', 'IN'), ('the', 'DT'), ('world', 'NN'), ('in', 'IN'), ('terms', 'NNS'), ('of', 'IN'), ('GDP', 'NNP'), ('.', '.'), ('We', 'PRP'), ('have', 'VBP'), ('a', 'DT'), ('10', 'CD'), ('percent', 'NN'), ('growth', 'NN'), ('rate', 'NN'), ('in', 'IN'), ('most', 'JJS'), ('areas', 'NNS'), ('.', '.'), ('Our', 'PRP$'), ('poverty', 'NN'), ('levels', 'NNS'), ('are', 'VBP'), ('falling', 'VBG'), ('.', '.'), ('Our', 'PRP$'), ('achievements', 'NNS'), ('are', 'VBP'), ('being', 'VBG'), ('globally', 'RB'), ('recognised', 'VBN'), ('today', 'NN'), ('.', '.'), ('Yet', 'CC'), ('we', 'PRP'), ('lack', 'VBP'), ('the', 'DT'), ('self-confidence', 'NN'), ('to', 'TO'), ('see', 'VB'), ('ourselves', 'PRP'), ('as', 'IN'), ('a', 'DT'), ('developed', 'JJ'), ('nation', 'NN'), (',', ','), ('self-reliant', 'JJ'), ('and', 'CC'), ('self-assured', 'JJ'), ('.', '.'), ('Isn', 'NNP'), ('’', 'NNP'), ('t', 'NN'), ('this', 'DT'), ('incorrect', 'NN'), ('?', '.'), ('I', 'PRP'), ('have', 'VBP'), ('a', 'DT'), ('third', 'JJ'), ('vision', 'NN'), ('.', '.'), ('India', 'NNP'), ('must', 'MD'), ('stand', 'VB'), ('up', 'RP'), ('to', 'TO'), ('the', 'DT'), ('world', 'NN'), ('.', '.'), ('Because', 'IN'), ('I', 'PRP'), ('believe', 'VBP'), ('that', 'IN'), ('unless', 'IN'), ('India', 'NNP'), ('stands', 'VBZ'), ('up', 'RP'), ('to', 'TO'), ('the', 'DT'), ('world', 'NN'), (',', ','), ('no', 'DT'), ('one', 'NN'), ('will', 'MD'), ('respect', 'VB'), ('us', 'PRP'), ('.', '.'), ('Only', 'RB'), ('strength', 'NN'), ('respects', 'NNS'), ('strength', 'NN'), ('.', '.'), ('We', 'PRP'), ('must', 'MD'), ('be', 'VB'), ('strong', 'JJ'), ('not', 'RB'), ('only', 'RB'), ('as', 'IN'), ('a', 'DT'), ('military', 'JJ'), ('power', 'NN'), ('but', 'CC'), ('also', 'RB'), ('as', 'IN'), ('an', 'DT'), ('economic', 'JJ'), ('power', 'NN'), ('.', '.'), ('Both', 'DT'), ('must', 'MD'), ('go', 'VB'), ('hand-in-hand', 'NN'), ('.', '.'), ('My', 'PRP$'), ('good', 'JJ'), ('fortune', 'NN'), ('was', 'VBD'), ('to', 'TO'), ('have', 'VB'), ('worked', 'VBN'), ('with', 'IN'), ('three', 'CD'), ('great', 'JJ'), ('minds', 'NNS'), ('.', '.'), ('Dr.', 'NNP'), ('Vikram', 'NNP'), ('Sarabhai', 'NNP'), ('of', 'IN'), ('the', 'DT'), ('Dept', 'NNP'), ('.', '.'), ('of', 'IN'), ('space', 'NN'), (',', ','), ('Professor', 'NNP'), ('Satish', 'NNP'), ('Dhawan', 'NNP'), (',', ','), ('who', 'WP'), ('succeeded', 'VBD'), ('him', 'PRP'), ('and', 'CC'), ('Dr.', 'NNP'), ('Brahm', 'NNP'), ('Prakash', 'NNP'), (',', ','), ('father', 'NN'), ('of', 'IN'), ('nuclear', 'JJ'), ('material', 'NN'), ('.', '.'), ('I', 'PRP'), ('was', 'VBD'), ('lucky', 'JJ'), ('to', 'TO'), ('have', 'VB'), ('worked', 'VBN'), ('with', 'IN'), ('all', 'DT'), ('three', 'CD'), ('of', 'IN'), ('them', 'PRP'), ('closely', 'RB'), ('and', 'CC'), ('consider', 'VB'), ('this', 'DT'), ('the', 'DT'), ('great', 'JJ'), ('opportunity', 'NN'), ('of', 'IN'), ('my', 'PRP$'), ('life', 'NN'), ('.', '.'), ('I', 'PRP'), ('see', 'VBP'), ('four', 'CD'), ('milestones', 'NNS'), ('in', 'IN'), ('my', 'PRP$'), ('career', 'NN')]\n"
     ]
    }
   ],
   "source": [
    "print(pos)"
   ]
  },
  {
   "cell_type": "code",
   "execution_count": null,
   "id": "97a772c5-f723-4a6b-8685-780fe0ba33d9",
   "metadata": {},
   "outputs": [],
   "source": []
  }
 ],
 "metadata": {
  "kernelspec": {
   "display_name": "Python 3 (ipykernel)",
   "language": "python",
   "name": "python3"
  },
  "language_info": {
   "codemirror_mode": {
    "name": "ipython",
    "version": 3
   },
   "file_extension": ".py",
   "mimetype": "text/x-python",
   "name": "python",
   "nbconvert_exporter": "python",
   "pygments_lexer": "ipython3",
   "version": "3.12.2"
  }
 },
 "nbformat": 4,
 "nbformat_minor": 5
}
